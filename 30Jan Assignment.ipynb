{
 "cells": [
  {
   "cell_type": "markdown",
   "id": "98a81a02-9ac7-48b6-ae16-15c7af00360e",
   "metadata": {},
   "source": [
    "###Q1 Write a program to accept from the user and display the grade according to the following criteria:\n",
    "Marks        Grade\n",
    ">90            A\n",
    ">80 and <=90   B\n",
    ">=60 and <=80  C\n",
    "below 60       D"
   ]
  },
  {
   "cell_type": "code",
   "execution_count": 21,
   "id": "2620d79a-a893-45e6-9cba-f19b3cff5290",
   "metadata": {
    "tags": []
   },
   "outputs": [
    {
     "name": "stdin",
     "output_type": "stream",
     "text": [
      "Enter marks: 40\n"
     ]
    },
    {
     "name": "stdout",
     "output_type": "stream",
     "text": [
      "Your marks are 40 and your grade is 'D' \n"
     ]
    }
   ],
   "source": [
    "Marks= int(input(\"Enter marks:\"))\n",
    "if Marks>90:\n",
    "    print(\"Your marks are \" + str(Marks) + \" and your grade is 'A' \")\n",
    "elif Marks>80 and Marks<=90:\n",
    "    print(\"Your marks are \" + str(Marks) + \" and your grade is 'B' \")\n",
    "elif Marks>=60 and Marks<=80:\n",
    "    print(\"Your marks are \" + str(Marks) + \" and your grade is 'C' \")\n",
    "else :\n",
    "    print(\"Your marks are \" + str(Marks) + \" and your grade is 'D' \")"
   ]
  },
  {
   "cell_type": "markdown",
   "id": "af81d10f-d096-403e-b3e7-f7f2d9e6ede7",
   "metadata": {},
   "source": [
    "###Q2. Write a program to accept the cost price of a bike and display the road tax to be paid according to the following criteria:\n",
    "Tax      Cost Price(in $)\n",
    "15%      >100000\n",
    "10%      >50000 and <= 100000\n",
    "5%       <=50000"
   ]
  },
  {
   "cell_type": "code",
   "execution_count": 27,
   "id": "7247bfe1-bfa7-440f-b6ad-035f651d30ac",
   "metadata": {},
   "outputs": [
    {
     "name": "stdin",
     "output_type": "stream",
     "text": [
      "Enter cost price of the bike:  100001\n"
     ]
    },
    {
     "name": "stdout",
     "output_type": "stream",
     "text": [
      "Road tax to be paid for your bike: 15000.15\n"
     ]
    }
   ],
   "source": [
    "cost_price= int(input(\"Enter cost price of the bike: \"))\n",
    "\n",
    "if cost_price>100000:\n",
    "    print(\"Road tax to be paid for your bike: \" + str(cost_price*0.15))\n",
    "elif cost_price>50000 and cost_price<= 100000: \n",
    "    print(\"Road tax to be paid for your bike: \" + str(cost_price*0.10))\n",
    "else :\n",
    "    print(\"Road tax to be paid for your bike: \" + str(cost_price*0.05))  "
   ]
  },
  {
   "cell_type": "markdown",
   "id": "ecc5f829-9d7b-4dec-8208-b240f94ccb24",
   "metadata": {},
   "source": [
    "###Q3. Accept any city from the user and display monuments of that city.\n",
    "City    Monument\n",
    "Delhi   red Fort\n",
    "Agra    Taj mahal\n",
    "Jaipur  Jal Mahal"
   ]
  },
  {
   "cell_type": "code",
   "execution_count": 31,
   "id": "228098f7-b7db-4fde-b86a-e540941575d1",
   "metadata": {},
   "outputs": [
    {
     "name": "stdin",
     "output_type": "stream",
     "text": [
      "Enter name of the city:  Delhi\n"
     ]
    },
    {
     "name": "stdout",
     "output_type": "stream",
     "text": [
      "Monument in Delhi : Red Fort\n"
     ]
    }
   ],
   "source": [
    "city= input(\"Enter name of the city: \")\n",
    "\n",
    "if city == \"Delhi\":\n",
    "    print(\"Monument in \" + city + \" : \" + \"Red Fort\")\n",
    "elif city == \"Agra\":\n",
    "    print(\"Monument in \" + city + \" : \" + \"Taj Mahal\")\n",
    "elif city == \"Jaipur\": \n",
    "    print(\"Monument in \" + city + \" : \" + \"Jal Mahal\")\n",
    "else :\n",
    "    print(\"No monument found for the city \" + city ) "
   ]
  },
  {
   "cell_type": "markdown",
   "id": "03460ba8-48a2-42e6-b504-6fc894a4f739",
   "metadata": {},
   "source": [
    "###Q4. Check how many times a given number can be divided by 3 before it is less than or equal to 10.\n"
   ]
  },
  {
   "cell_type": "code",
   "execution_count": 5,
   "id": "1d21c5ee-85ff-40ab-a8a7-266b50df9b54",
   "metadata": {},
   "outputs": [
    {
     "name": "stdin",
     "output_type": "stream",
     "text": [
      "Enter your number : 45\n"
     ]
    },
    {
     "name": "stdout",
     "output_type": "stream",
     "text": [
      "Number of times a given number can be divided by 3 before it is less than or equal to 10:  2\n"
     ]
    }
   ],
   "source": [
    "number = int(input(\"Enter your number :\"))\n",
    "counter = 0\n",
    "while number > 10 :\n",
    "    number /= 3\n",
    "    counter = counter+1\n",
    "print(\"Number of times a given number can be divided by 3 before it is less than or equal to 10: \",counter)"
   ]
  },
  {
   "cell_type": "markdown",
   "id": "e274fe8c-932f-454b-b67a-1522b8ef4966",
   "metadata": {},
   "source": [
    "\n",
    "\n",
    "###Q5. Why and when to use while loop in Python? Give a detailed description with example"
   ]
  },
  {
   "cell_type": "markdown",
   "id": "0b482a0d-1f66-4dd3-a831-a8e71a05842d",
   "metadata": {},
   "source": [
    "###\n",
    "A while loop is a control flow statement that allows you to repeatedly execute a block of code as long as a certain condition is true\n",
    "\n",
    "Syntax for while loop is \n",
    "while condition:\n",
    "    statement(s)\n",
    "    \n",
    "Here, condition is an expression that is evaluated before each iteration of the loop. If the condition is true, the statement(s) in the loop body are executed. This process repeats until the condition becomes false.\n",
    "\n",
    "A while loop is useful in situations where you need to repeat a task a certain number of times, or until a certain condition is met. For example, you might use a while loop to read input from a user until they enter a valid value, or to perform a calculation until the result converges to a certain accuracy."
   ]
  },
  {
   "cell_type": "code",
   "execution_count": 7,
   "id": "fe6d8160-ed35-492c-930c-39f03bb44431",
   "metadata": {},
   "outputs": [
    {
     "name": "stdout",
     "output_type": "stream",
     "text": [
      "1\n",
      "2\n",
      "3\n",
      "4\n",
      "5\n"
     ]
    }
   ],
   "source": [
    "# Print numbers from 1 to 5\n",
    "i = 1\n",
    "while i <= 5:\n",
    "    print(i)\n",
    "    i += 1\n"
   ]
  },
  {
   "cell_type": "code",
   "execution_count": null,
   "id": "1ecbc147-e366-4016-b1f0-f1a79badb548",
   "metadata": {},
   "outputs": [],
   "source": []
  },
  {
   "cell_type": "markdown",
   "id": "ae28c5ed-d8c7-4644-9f62-00d365e1c27e",
   "metadata": {},
   "source": [
    "###Q6. Use nested while loop to print 3 different pattern"
   ]
  },
  {
   "cell_type": "code",
   "execution_count": 8,
   "id": "0a4a7f31-a2bb-44f3-ba17-06a92c157cb3",
   "metadata": {},
   "outputs": [
    {
     "name": "stdout",
     "output_type": "stream",
     "text": [
      "*\n",
      "**\n",
      "***\n",
      "****\n",
      "*****\n"
     ]
    }
   ],
   "source": [
    "i = 1\n",
    "while i <= 5:\n",
    "    j = 1\n",
    "    while j <= i:\n",
    "        print(\"*\", end=\"\")\n",
    "        j += 1\n",
    "    print()\n",
    "    i += 1"
   ]
  },
  {
   "cell_type": "code",
   "execution_count": 9,
   "id": "378ae085-c97e-4d0b-a347-b94b4a442afd",
   "metadata": {},
   "outputs": [
    {
     "name": "stdout",
     "output_type": "stream",
     "text": [
      "*****\n",
      "****\n",
      "***\n",
      "**\n",
      "*\n"
     ]
    }
   ],
   "source": [
    "i = 5\n",
    "while i >= 1:\n",
    "    j = 1\n",
    "    while j <= i:\n",
    "        print(\"*\", end=\"\")\n",
    "        j += 1\n",
    "    print()\n",
    "    i -= 1"
   ]
  },
  {
   "cell_type": "code",
   "execution_count": 17,
   "id": "dfe0a142-f4cd-47fc-9590-940c6fdeb034",
   "metadata": {},
   "outputs": [
    {
     "name": "stdout",
     "output_type": "stream",
     "text": [
      "  *\n",
      " ***\n",
      "*****\n",
      " ***\n",
      "  *\n"
     ]
    }
   ],
   "source": [
    "i = 1\n",
    "while i <= 3:\n",
    "    spaces = 3 - i\n",
    "    stars = 2 * i - 1\n",
    "    print(\" \" * spaces, end=\"\")\n",
    "    print(\"*\" * stars)\n",
    "    i += 1\n",
    "\n",
    "i = 2\n",
    "while i >= 1:\n",
    "    spaces = 3 - i\n",
    "    stars = 2 * i - 1\n",
    "    print(\" \" * spaces, end=\"\")\n",
    "    print(\"*\" * stars)\n",
    "    i -= 1\n"
   ]
  },
  {
   "cell_type": "markdown",
   "id": "64904c23-10b1-454d-8014-8faace18df24",
   "metadata": {},
   "source": [
    "###Q7. Reverse a while loop to display numbers from 10 to 1"
   ]
  },
  {
   "cell_type": "code",
   "execution_count": 19,
   "id": "405fce5c-c5a2-45b0-a67d-fc1af629e5fa",
   "metadata": {},
   "outputs": [
    {
     "name": "stdout",
     "output_type": "stream",
     "text": [
      "10\n",
      "9\n",
      "8\n",
      "7\n",
      "6\n",
      "5\n",
      "4\n",
      "3\n",
      "2\n",
      "1\n"
     ]
    }
   ],
   "source": [
    "i=10\n",
    "\n",
    "while i>0:\n",
    "    print(i)\n",
    "    i -= 1\n",
    "    "
   ]
  }
 ],
 "metadata": {
  "kernelspec": {
   "display_name": "Python 3 (ipykernel)",
   "language": "python",
   "name": "python3"
  },
  "language_info": {
   "codemirror_mode": {
    "name": "ipython",
    "version": 3
   },
   "file_extension": ".py",
   "mimetype": "text/x-python",
   "name": "python",
   "nbconvert_exporter": "python",
   "pygments_lexer": "ipython3",
   "version": "3.9.13"
  }
 },
 "nbformat": 4,
 "nbformat_minor": 5
}
