{
 "cells": [
  {
   "cell_type": "markdown",
   "id": "c63d94b3-6943-4c51-9f41-50e06af002b4",
   "metadata": {},
   "source": [
    "###1. Who developed Python Programming Language?\n",
    "\n",
    "Python was created by Guido van Rossum in the late 1980s, released the first version of Python (version 0.9.0) in February 1991"
   ]
  },
  {
   "cell_type": "code",
   "execution_count": null,
   "id": "1b824ff9-4735-49f9-8c97-c86e268daada",
   "metadata": {},
   "outputs": [],
   "source": []
  },
  {
   "cell_type": "markdown",
   "id": "5bf6743c-ffc1-40f2-adb3-598715717e50",
   "metadata": {},
   "source": [
    "###2. Which type of programming does Python Support?\n",
    "\n",
    "Python Supports\n",
    "object-oriented, Sructured and functional programming languages."
   ]
  },
  {
   "cell_type": "code",
   "execution_count": null,
   "id": "649af6d7-9cec-4140-8149-6fac0fda8c25",
   "metadata": {},
   "outputs": [],
   "source": []
  },
  {
   "cell_type": "markdown",
   "id": "f9e5f61d-e022-46e2-a29c-f04b06ffe468",
   "metadata": {},
   "source": [
    "###3. is Python case senstive when dealing with identifiers?\n",
    "\n",
    "Yes, Python is a case-sensitive programming language when it comes to identifiers such as variable names, function names, class names, etc"
   ]
  },
  {
   "cell_type": "code",
   "execution_count": null,
   "id": "a40d22a9-cc3e-40f1-bb0d-bed5404e85e6",
   "metadata": {},
   "outputs": [],
   "source": []
  },
  {
   "cell_type": "markdown",
   "id": "a0ccdf7c-166f-4655-b0ff-5acb0031220f",
   "metadata": {},
   "source": [
    "###4. What is correct extension of the python file?\n",
    "\n",
    "The correct extension for a Python file is \".py\". "
   ]
  },
  {
   "cell_type": "markdown",
   "id": "009553df-5c08-4bfc-b87a-3a873a582fa7",
   "metadata": {},
   "source": []
  },
  {
   "cell_type": "markdown",
   "id": "be28ac59-e20a-4a99-9da9-e70eaae6a956",
   "metadata": {},
   "source": [
    "###5. Is Python code compile or interpreted?\n",
    "\n",
    "Python code is interpreted, meaning that the Python interpreter reads and executes the code directly without the need for compilation. When you run a Python program, the interpreter reads the source code line by line and executes each line one at a time.\n",
    "\n",
    "This is different from compiled languages like C or Java, where the source code is first compiled into machine code before it can be executed. In contrast, Python source code is translated into an intermediate bytecode format, which is then executed by the interpreter. This bytecode can be saved to a file with a \".pyc\" extension to speed up subsequent executions of the same code.\n",
    "\n",
    "The interpreted nature of Python has both advantages and disadvantages. On the one hand, it makes Python code easy to write and test, and the interpreter provides helpful error messages that make it easier to debug your code. On the other hand, interpreted code can be slower than compiled code, especially for computationally intensive tasks. However, the use of just-in-time (JIT) compilation and other optimization techniques can help to mitigate this performance difference."
   ]
  },
  {
   "cell_type": "code",
   "execution_count": null,
   "id": "a4c5be73-853e-4620-97e3-4d4b49fe3291",
   "metadata": {},
   "outputs": [],
   "source": []
  },
  {
   "cell_type": "markdown",
   "id": "b3e0682d-d225-4e8b-8b3f-1c64a0db33aa",
   "metadata": {},
   "source": [
    "###6. Name a few blocks of code used to define in python language?\n",
    "\n",
    "In Python, blocks of code are defined by their indentation level. The standard indentation level is 4 spaces and blocks of code are typically defined using one of the following statements\n",
    "if , for, while, def, class"
   ]
  },
  {
   "cell_type": "code",
   "execution_count": null,
   "id": "31ee6e9b-df85-47e1-8b9f-64f1f349745b",
   "metadata": {},
   "outputs": [],
   "source": []
  },
  {
   "cell_type": "markdown",
   "id": "ff32973f-bdc5-4a42-b6a0-569dc4a36259",
   "metadata": {},
   "source": [
    "###7. State a character used to give single-line comments in Python?\n",
    "\n",
    "In Python, the character used to give a single-line comment is the hash symbol (#)"
   ]
  },
  {
   "cell_type": "code",
   "execution_count": null,
   "id": "ea67c215-a3d3-4906-b11e-0d4af2ac77dd",
   "metadata": {},
   "outputs": [],
   "source": []
  },
  {
   "cell_type": "markdown",
   "id": "27311235-b025-426d-928b-4ace879cb365",
   "metadata": {},
   "source": [
    "###8. mention functions which can help us to find the version of python that we are currently working on?\n",
    "\n",
    "platform.python_version(), sys.version"
   ]
  },
  {
   "cell_type": "code",
   "execution_count": 2,
   "id": "c648a36c-0a8c-4b82-b77d-d5f0dd6d1439",
   "metadata": {},
   "outputs": [
    {
     "name": "stdout",
     "output_type": "stream",
     "text": [
      "3.9.13\n"
     ]
    }
   ],
   "source": [
    "import platform\n",
    "print(platform.python_version())"
   ]
  },
  {
   "cell_type": "code",
   "execution_count": 3,
   "id": "2d0ccfc8-149d-411f-8131-8c8b9e24fcaf",
   "metadata": {},
   "outputs": [
    {
     "name": "stdout",
     "output_type": "stream",
     "text": [
      "3.9.13 (main, Aug 25 2022, 23:51:50) [MSC v.1916 64 bit (AMD64)]\n"
     ]
    }
   ],
   "source": [
    "import sys\n",
    "print(sys.version)"
   ]
  },
  {
   "cell_type": "code",
   "execution_count": null,
   "id": "3ea43e58-3e7d-4ddd-87d8-16f694fc39b9",
   "metadata": {},
   "outputs": [],
   "source": []
  },
  {
   "cell_type": "markdown",
   "id": "e8600faf-f86c-4f33-8746-5fab4f2ef4a8",
   "metadata": {},
   "source": [
    "###9. Python supports the creation of anonymous fucntions at runtime, using a construct called _____?\n",
    "\n",
    "Lambda"
   ]
  },
  {
   "cell_type": "code",
   "execution_count": null,
   "id": "b3328e0d-d5a1-44f0-8bab-4704566c1d31",
   "metadata": {},
   "outputs": [],
   "source": []
  },
  {
   "cell_type": "markdown",
   "id": "eff9422d-86b7-46a5-bfb7-73c355c8485d",
   "metadata": {},
   "source": [
    "###10. What does pip stand for in python?\n",
    "\n",
    "In Python, pip stands for \"Pip Installs Packages\". It is a package manager for Python that is used to install, manage, and uninstall packages, which are collections of code that can be reused in different Python projects.\n",
    "\n",
    "pip allows you to easily install third-party packages from the Python Package Index (PyPI), a repository of Python packages that are freely available for anyone to use. \n",
    "\n",
    "pip also allows you to manage multiple environments and versions of Python, and provides many other useful features such as upgrading packages, uninstalling packages, and listing installed packages.\n",
    "\n",
    "pip is included with Python 3.4 and later versions, and can be used on Windows, Mac, and Linux operating systems."
   ]
  },
  {
   "cell_type": "code",
   "execution_count": null,
   "id": "ccc3a085-e47e-496b-a0c3-ebbb75d9393f",
   "metadata": {},
   "outputs": [],
   "source": []
  },
  {
   "cell_type": "markdown",
   "id": "df563199-9f31-410b-8685-7119480cbf79",
   "metadata": {},
   "source": [
    "###11. mention a few built-in functions in python?\n",
    "\n",
    "print(); len();range(); type(); int(), str(); input(), float(), double(), bool(); abs(); round(),; max(); min(); enumerate()"
   ]
  },
  {
   "cell_type": "code",
   "execution_count": null,
   "id": "b5a246c1-b08e-44e8-ba49-eedb5fa7626e",
   "metadata": {},
   "outputs": [],
   "source": []
  },
  {
   "cell_type": "markdown",
   "id": "4d978faf-9b9f-4a0b-a6ea-be44400d9e89",
   "metadata": {},
   "source": [
    "###12. What is the maximum possible lenght of an identifier in Python?\n",
    "\n",
    "In Python, the maximum length of an identifier is implementation dependent. However, the Python Language Reference suggests that most implementations have a limit of 255 characters for identifiers."
   ]
  },
  {
   "cell_type": "code",
   "execution_count": null,
   "id": "42fd419b-d0f9-482c-9de9-0b641c6b6edd",
   "metadata": {},
   "outputs": [],
   "source": []
  },
  {
   "cell_type": "markdown",
   "id": "20cc137b-0f8a-481e-bbae-559d86e61f2e",
   "metadata": {},
   "source": [
    "###13. What are the benefits of using Python?\n",
    "\n",
    "Python is a versatile, high-level programming language that offers many benefits to developers. Here are some of the key benefits of using Python:\n",
    "\n",
    "Easy to Learn: Python has a simple and intuitive syntax that is easy to read and write. It is a great language for beginners, as well as experienced programmers who want to develop prototypes quickly.\n",
    "\n",
    "Large Standard Library: Python comes with a large standard library that provides a wide range of tools and functionality for common programming tasks, such as working with files, databases, and networking.\n",
    "\n",
    "Third-party Packages: Python has a huge ecosystem of third-party packages and modules that extend its capabilities even further. These packages can be easily installed using the pip package manager, and cover a wide range of applications, from scientific computing to web development.\n",
    "\n",
    "Cross-platform: Python runs on a variety of platforms, including Windows, Mac, and Linux, making it a great choice for cross-platform development.\n",
    "\n",
    "High Productivity: Python's concise and expressive syntax, combined with its extensive libraries and third-party packages, make it a highly productive language. It allows developers to write less code to accomplish more, reducing development time and increasing productivity.\n",
    "\n",
    "Scalability: Python is widely used for both small and large-scale projects. It supports multiple programming paradigms, including procedural, object-oriented, and functional programming, making it a flexible language for a wide range of applications.\n",
    "\n",
    "Open-source: Python is an open-source language, which means that it is free to use, distribute, and modify. This has helped to create a large and active community of developers who contribute to the language and its ecosystem.\n",
    "\n",
    "These are just a few of the many benefits of using Python for programming. Overall, Python is a powerful and versatile language that is well-suited for a wide range of applications, from data analysis and scientific computing to web development and automation."
   ]
  },
  {
   "cell_type": "code",
   "execution_count": null,
   "id": "1f41ec0f-c649-4871-8be5-e9704bd42d08",
   "metadata": {},
   "outputs": [],
   "source": []
  },
  {
   "cell_type": "markdown",
   "id": "4b7811ed-7cdf-425e-9b02-6fde30e1b7d6",
   "metadata": {},
   "source": [
    "###14. How is memory managed in Python?\n",
    "\n",
    "In Python, memory management is handled by the Python interpreter through a process called garbage collection. The garbage collector periodically frees memory that is no longer being used by the program.\n",
    "\n",
    "Python uses a reference counting mechanism to keep track of memory usage. Every object in Python has a reference count, which is the number of references that point to the object. When an object's reference count drops to zero, it means that the object is no longer being used by the program and its memory can be freed.\n",
    "\n",
    "Python also uses a cyclic garbage collector to handle more complex memory management scenarios, such as circular references. This occurs when two or more objects reference each other, and their reference count never reaches zero, even if they are no longer needed by the program. The cyclic garbage collector periodically identifies and frees these objects, allowing their memory to be reclaimed.\n",
    "\n",
    "Python's memory management system is designed to be efficient and automatic, so that programmers do not need to worry about memory allocation and deallocation. However, it is important to note that memory management can still be a concern in certain situations, such as when working with large datasets or long-running programs. In these cases, developers can use techniques such as memory profiling and optimization to ensure that their code is using memory efficiently."
   ]
  },
  {
   "cell_type": "code",
   "execution_count": null,
   "id": "56530db1-43a3-4663-9b26-8caae5bbe8e5",
   "metadata": {},
   "outputs": [],
   "source": []
  },
  {
   "cell_type": "markdown",
   "id": "0d9215ea-b90e-4735-ab23-a30783dc8034",
   "metadata": {},
   "source": [
    "###15. How to install Python on Windows and set path variables?\n",
    "\n",
    "Here are the steps to install Python on Windows and set path variables:\n",
    "\n",
    "Download the Python installer: Go to the Python downloads page (https://www.python.org/downloads/) and download the latest version of Python for Windows. Make sure to select the appropriate installer for your system (either 32-bit or 64-bit).\n",
    "\n",
    "Run the installer: Once the download is complete, run the installer and follow the on-screen instructions to install Python on your system. Make sure to choose the \"Add Python to PATH\" option during the installation process.\n",
    "\n",
    "Verify the installation: After the installation is complete, open a command prompt and type python --version to verify that Python is installed and check the version.\n",
    "\n",
    "Set path variables: If Python is not already added to your system's PATH variable, you can add it manually. Here's how to do it:\n",
    "\n",
    "Open the Start menu and search for \"Environment Variables\".\n",
    "Select \"Edit the system environment variables\".\n",
    "Click the \"Environment Variables\" button at the bottom of the window.\n",
    "In the System Variables section, scroll down and select the \"Path\" variable, then click \"Edit\".\n",
    "Click \"New\" and enter the path to the Python installation directory (for example, C:\\Python39).\n",
    "Click \"OK\" to close all the windows.\n",
    "Verify path variables: Open a new command prompt window and type python. If Python is correctly added to the PATH variable, the Python interpreter should start.\n",
    "That's it! You have successfully installed Python on your Windows system and set the path variables. Now you can start using Python for your projects."
   ]
  },
  {
   "cell_type": "code",
   "execution_count": null,
   "id": "5df76ceb-bd5b-4462-a970-b208e0f4d6f3",
   "metadata": {},
   "outputs": [],
   "source": []
  },
  {
   "cell_type": "markdown",
   "id": "aca4f9b3-65c5-4a97-a7c1-7946596b17b9",
   "metadata": {},
   "source": [
    "###16. Is indentation required in Python?\n",
    "\n",
    "Yes, indentation is required in Python. Indentation is used to define the scope and grouping of statements in a program, rather than using curly braces or other delimiters like many other programming languages.\n",
    "\n",
    "In Python, statements within the same block must be indented to the same level. The standard convention is to use four spaces for each level of indentation. This helps make the code more readable and easier to understand.\n",
    "\n",
    "Note that incorrect indentation can cause syntax errors in Python programs, so it's important to be careful when formatting your code."
   ]
  }
 ],
 "metadata": {
  "kernelspec": {
   "display_name": "Python 3 (ipykernel)",
   "language": "python",
   "name": "python3"
  },
  "language_info": {
   "codemirror_mode": {
    "name": "ipython",
    "version": 3
   },
   "file_extension": ".py",
   "mimetype": "text/x-python",
   "name": "python",
   "nbconvert_exporter": "python",
   "pygments_lexer": "ipython3",
   "version": "3.9.13"
  }
 },
 "nbformat": 4,
 "nbformat_minor": 5
}
