{
 "cells": [
  {
   "cell_type": "markdown",
   "id": "1efee628-f0f3-4b95-b0a9-a6358e573c7e",
   "metadata": {},
   "source": [
    "Q1. What is MongoDB? Explain non-relational databases in short. In which scenarios it is preferred to use\n",
    "MongoDB over SQL databases?"
   ]
  },
  {
   "cell_type": "markdown",
   "id": "675e14dc-847a-45c4-8611-980e1e16c42f",
   "metadata": {},
   "source": [
    "MongoDB is a popular NoSQL database management system that uses a document-based model to store data. It is an open-source, cross-platform database that provides high scalability, flexibility, and performance.\n",
    "\n",
    "Non-relational databases, also known as NoSQL databases, are database management systems that do not use the traditional relational model for storing data. They use different models such as document-based, key-value, graph, or columnar. Non-relational databases are preferred in scenarios where the data is unstructured or semi-structured, and the schema is not well-defined or subject to frequent changes. They are also useful for handling large volumes of data that need to be processed in real-time, and for distributed systems that need to scale horizontally.\n",
    "\n",
    "MongoDB is preferred over SQL databases in the following scenarios:\n",
    "\n",
    "Unstructured or semi-structured data: MongoDB is a document-based database that can store unstructured or semi-structured data such as JSON documents. It is well-suited for applications that require flexible and dynamic schema, and where the data is not well-defined or subject to frequent changes.\n",
    "\n",
    "High scalability and performance: MongoDB provides high scalability and performance by allowing sharding and replication. Sharding distributes data across multiple servers, while replication ensures data availability and fault tolerance. This makes MongoDB ideal for applications that require high throughput and low latency.\n",
    "\n",
    "Real-time data processing: MongoDB provides fast read and write operations, making it suitable for real-time data processing and analytics.\n",
    "\n",
    "Geospatial data processing: MongoDB provides built-in support for geospatial data processing, making it an ideal choice for applications that require location-based services.\n",
    "\n",
    "Cost-effective: MongoDB is an open-source database that is available for free. It is also easy to set up and maintain, making it a cost-effective solution for small to medium-sized applications.\n",
    "\n",
    "In summary, MongoDB is a NoSQL database management system that provides high scalability, flexibility, and performance. It is well-suited for applications that require flexible schema, high scalability and performance, real-time data processing, geospatial data processing, and cost-effectiveness."
   ]
  },
  {
   "cell_type": "markdown",
   "id": "b8a3e4f4-bbb2-4e89-8d84-326b420a8af2",
   "metadata": {},
   "source": [
    "Q2. State and Explain the features of MongoDB."
   ]
  },
  {
   "cell_type": "markdown",
   "id": "bf00d828-6274-4e25-8bf2-ae2fdb96dc67",
   "metadata": {},
   "source": [
    "MongoDB is a popular NoSQL database management system that offers several features that make it a popular choice for developers. Some of the key features of MongoDB are:\n",
    "\n",
    "Document-based model: MongoDB uses a document-based model to store data, where data is stored in flexible, JSON-like documents. This allows for more natural representation of data in the application layer, and eliminates the need for complex joins used in traditional relational databases.\n",
    "\n",
    "Dynamic schema: MongoDB has a dynamic schema, which means that the schema is not fixed and can be changed easily without downtime. This makes it easier to handle data that is constantly changing or evolving.\n",
    "\n",
    "High scalability: MongoDB is designed to be highly scalable and can handle large amounts of data. It supports horizontal scaling through sharding, which distributes data across multiple servers to improve performance and fault tolerance.\n",
    "\n",
    "High availability: MongoDB provides automatic failover and replication features to ensure high availability of data. It can replicate data across multiple nodes to provide redundancy and fault tolerance.\n",
    "\n",
    "Fast queries: MongoDB provides fast queries, which means that data can be retrieved quickly and efficiently. This is achieved through the use of indexes, which allow for fast access to data.\n",
    "\n",
    "Flexible indexing: MongoDB supports flexible indexing, allowing developers to create indexes on any field in a document, including arrays and sub-documents. This provides faster query performance and more efficient data retrieval.\n",
    "\n",
    "MapReduce support: MongoDB supports MapReduce, which is a powerful way to process large amounts of data. This allows for complex data analysis and aggregation, making it a popular choice for big data applications.\n",
    "\n",
    "Geospatial indexing: MongoDB has built-in support for geospatial indexing, allowing developers to store and query location-based data easily.\n",
    "\n",
    "In summary, MongoDB offers several key features that make it a popular choice for developers. It uses a document-based model, has a dynamic schema, supports horizontal scaling and replication, provides fast queries, flexible indexing, MapReduce support, and geospatial indexing."
   ]
  },
  {
   "cell_type": "markdown",
   "id": "1b9fb21d-eda7-406b-880a-eb7cc8a536a6",
   "metadata": {},
   "source": [
    "Q3. Write a code to connect MongoDB to Python. Also, create a database and a collection in MongoDB."
   ]
  },
  {
   "cell_type": "markdown",
   "id": "bff81285-4d16-4a15-9b39-3f0d15d945e7",
   "metadata": {},
   "source": [
    "See Day 20 MongoDb.ipynb"
   ]
  },
  {
   "cell_type": "markdown",
   "id": "3a57b0cf-df3b-4dfa-b03d-d9cba5effa5f",
   "metadata": {},
   "source": [
    "Q4. Using the database and the collection created in question number 3, write a code to insert one record,\n",
    "and insert many records. Use the find() and find_one() methods to print the inserted record."
   ]
  },
  {
   "cell_type": "markdown",
   "id": "570d9b2a-c7fc-4737-a98e-ca7151cb224a",
   "metadata": {},
   "source": [
    "See Day 20 MongoDb.ipynb"
   ]
  },
  {
   "cell_type": "markdown",
   "id": "77428ffa-bf25-4df4-9813-2f78ac6d4f11",
   "metadata": {},
   "source": [
    "Q5. Explain how you can use the find() method to query the MongoDB database. Write a simple code to\n",
    "demonstrate this."
   ]
  },
  {
   "cell_type": "markdown",
   "id": "4c8244fa-fc75-4b0d-b6af-f04e6fd505f3",
   "metadata": {},
   "source": [
    "See Day 20 MongoDb.ipynb"
   ]
  },
  {
   "cell_type": "markdown",
   "id": "bfdad6ff-4155-45c8-9d13-377d19e6133d",
   "metadata": {},
   "source": [
    "Q6. Explain the sort() method. Give an example to demonstrate sorting in MongoDB."
   ]
  },
  {
   "cell_type": "markdown",
   "id": "53819d5a-221a-400f-8587-d806f56c780a",
   "metadata": {},
   "source": [
    "The sort() method in MongoDB is used to sort the documents in a collection based on a specified sort key. The method takes a single parameter, which is a dictionary that specifies the field(s) to sort by and the sort order.\n",
    "\n",
    "The sort order is specified using 1 for ascending order and -1 for descending order. If multiple fields are specified, the documents are sorted first by the first field and then by the second field, and so on."
   ]
  },
  {
   "cell_type": "markdown",
   "id": "5a911b6f-71d7-4cb0-a6e5-8478234cedc2",
   "metadata": {},
   "source": [
    "Q7. Explain why delete_one(), delete_many(), and drop() is used."
   ]
  },
  {
   "cell_type": "markdown",
   "id": "f9416029-29fb-4eee-b6d1-5abef0f52cae",
   "metadata": {},
   "source": [
    "In MongoDB, the delete_one() method is used to delete a single document that matches a specified filter, while the delete_many() method is used to delete all documents that match a specified filter. The drop() method is used to drop an entire collection from the database."
   ]
  },
  {
   "cell_type": "code",
   "execution_count": null,
   "id": "93e28268-e5aa-4af8-b273-7c2c02dcf7a2",
   "metadata": {},
   "outputs": [],
   "source": []
  }
 ],
 "metadata": {
  "kernelspec": {
   "display_name": "Python 3 (ipykernel)",
   "language": "python",
   "name": "python3"
  },
  "language_info": {
   "codemirror_mode": {
    "name": "ipython",
    "version": 3
   },
   "file_extension": ".py",
   "mimetype": "text/x-python",
   "name": "python",
   "nbconvert_exporter": "python",
   "pygments_lexer": "ipython3",
   "version": "3.9.13"
  }
 },
 "nbformat": 4,
 "nbformat_minor": 5
}
