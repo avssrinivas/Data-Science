{
 "cells": [
  {
   "cell_type": "markdown",
   "id": "9af1505b-e346-4679-8d91-deba724fbdac",
   "metadata": {},
   "source": [
    "Q1. What is an Exception in python? Write the difference between Exceptions and syntax errors"
   ]
  },
  {
   "cell_type": "markdown",
   "id": "78977aaf-b658-4955-9e1c-aa329d5944f5",
   "metadata": {},
   "source": [
    "An exception is an error that occurs during the execution of a program. When an exception occurs, Python interrupts the normal flow of the program and raises an exception object, which contains information about the error. The exception can then be caught and handled by the program.\n",
    "\n",
    "E.g: a division by zero error occurs, which raises a ZeroDivisionError exception.\n",
    "\n",
    "Exceptions are different from syntax errors in Python in the following ways:\n",
    "\n",
    "Syntax errors occur when there is a problem with the syntax of the program, such as a missing colon or parentheses. They are detected by the Python interpreter before the program is executed and cause the program to fail to start.\n",
    "\n",
    "Exceptions, on the other hand, occur during the execution of the program, when a problem is encountered that prevents the program from continuing as expected.\n",
    "\n",
    "Unlike syntax errors, which are always detected and reported by the Python interpreter, exceptions can be caught and handled by the program using a try-except block."
   ]
  },
  {
   "cell_type": "markdown",
   "id": "8c94be5b-f886-46a2-b8bd-ea523fe236ac",
   "metadata": {},
   "source": [
    "Q2. What happens when an exception is not handled? Explain with an example"
   ]
  },
  {
   "cell_type": "markdown",
   "id": "313dcbff-db0b-4111-a85c-ae5c3023339d",
   "metadata": {},
   "source": [
    "When an exception is not handled, the program will terminate with an error message, which includes information about the exception that was raised. This can cause the program to crash, and any code that was not executed before the exception occurred will be skipped.\n",
    "\n",
    "Here's an example of what happens when an exception is not handled in Python:"
   ]
  },
  {
   "cell_type": "code",
   "execution_count": 1,
   "id": "d7c3bd64-8d73-46b7-aa66-e73fd8c3e1f2",
   "metadata": {},
   "outputs": [
    {
     "ename": "ZeroDivisionError",
     "evalue": "division by zero",
     "output_type": "error",
     "traceback": [
      "\u001b[1;31m---------------------------------------------------------------------------\u001b[0m",
      "\u001b[1;31mZeroDivisionError\u001b[0m                         Traceback (most recent call last)",
      "\u001b[1;32m~\\AppData\\Local\\Temp\\ipykernel_6028\\2149799062.py\u001b[0m in \u001b[0;36m<module>\u001b[1;34m\u001b[0m\n\u001b[0;32m      1\u001b[0m \u001b[1;31m# This code will raise a ZeroDivisionError exception\u001b[0m\u001b[1;33m\u001b[0m\u001b[1;33m\u001b[0m\u001b[0m\n\u001b[1;32m----> 2\u001b[1;33m \u001b[0mx\u001b[0m \u001b[1;33m=\u001b[0m \u001b[1;36m10\u001b[0m \u001b[1;33m/\u001b[0m \u001b[1;36m0\u001b[0m\u001b[1;33m\u001b[0m\u001b[1;33m\u001b[0m\u001b[0m\n\u001b[0m\u001b[0;32m      3\u001b[0m \u001b[0mprint\u001b[0m\u001b[1;33m(\u001b[0m\u001b[1;34m\"This line of code will not be executed\"\u001b[0m\u001b[1;33m)\u001b[0m\u001b[1;33m\u001b[0m\u001b[1;33m\u001b[0m\u001b[0m\n",
      "\u001b[1;31mZeroDivisionError\u001b[0m: division by zero"
     ]
    }
   ],
   "source": [
    "# This code will raise a ZeroDivisionError exception\n",
    "x = 10 / 0\n",
    "print(\"This line of code will not be executed\")"
   ]
  },
  {
   "cell_type": "markdown",
   "id": "b54a6bbd-caa0-4d57-b711-49227afae97a",
   "metadata": {},
   "source": [
    "In this example, a ZeroDivisionError exception is raised when the code tries to divide 10 by 0. Since there is no try-except block to catch and handle the exception, the program terminates with an error message\n",
    "\n",
    "In general, it's a good practice to handle exceptions in your code to prevent your program from crashing and to provide meaningful error messages to the user. This can be done using a try-except block, which allows you to catch and handle exceptions gracefully."
   ]
  },
  {
   "cell_type": "markdown",
   "id": "197d2c2c-20c6-40da-bde6-e94403bee166",
   "metadata": {},
   "source": [
    "Q3. Which Python statements are used to catch and handle exceptions? Explain with an example"
   ]
  },
  {
   "cell_type": "markdown",
   "id": "b9aaa3ac-d1af-4644-a469-569c62082caa",
   "metadata": {},
   "source": [
    "The 'try' and 'except' statements are used to catch and handle exceptions.\n",
    "\n",
    "The try block contains the code that may raise an exception, and the except block contains the code that handles the exception if it occurs.\n",
    "\n",
    "Here's an example of using the try and except statements to handle an exception"
   ]
  },
  {
   "cell_type": "code",
   "execution_count": 2,
   "id": "47feeb47-6722-4acb-b7ea-d05dbb250105",
   "metadata": {},
   "outputs": [
    {
     "name": "stdout",
     "output_type": "stream",
     "text": [
      "Cannot divide by zero\n"
     ]
    }
   ],
   "source": [
    "try:\n",
    "    x = 10 / 0\n",
    "except ZeroDivisionError:\n",
    "    print(\"Cannot divide by zero\")"
   ]
  },
  {
   "cell_type": "markdown",
   "id": "5508358a-9ca2-440f-8b96-f6c24e2d36d5",
   "metadata": {},
   "source": [
    "In this example, the try block contains the code that may raise a ZeroDivisionError exception when dividing 10 by 0. The except block contains the code that handles the exception if it occurs, which in this case is a simple message that says \"Cannot divide by zero\". If the exception occurs, the program will not terminate and the code in the except block will be executed instead.\n",
    "\n",
    "You can also catch multiple exceptions using multiple except blocks, like this:"
   ]
  },
  {
   "cell_type": "code",
   "execution_count": 5,
   "id": "2157f608-b2bc-465d-9818-745b9b897fb9",
   "metadata": {},
   "outputs": [
    {
     "name": "stdin",
     "output_type": "stream",
     "text": [
      "Enter a number:  adf\n"
     ]
    },
    {
     "name": "stdout",
     "output_type": "stream",
     "text": [
      "Please enter a valid integer\n"
     ]
    }
   ],
   "source": [
    "try:\n",
    "    x = int(input(\"Enter a number: \"))\n",
    "    y = 10 / x\n",
    "except ZeroDivisionError:\n",
    "    print(\"Cannot divide by zero\")\n",
    "except ValueError:\n",
    "    print(\"Please enter a valid integer\")\n"
   ]
  },
  {
   "cell_type": "markdown",
   "id": "b02774e2-92da-4dec-a5fe-45a19e516359",
   "metadata": {},
   "source": [
    "In this example, the try block contains the code that may raise a ZeroDivisionError or a ValueError exception. The first except block handles the ZeroDivisionError exception, and the second except block handles the ValueError exception. If either exception occurs, the corresponding message will be printed and the program will not terminate.\n",
    "\n",
    "In summary, the try and except statements are used in Python to catch and handle exceptions. The try block contains the code that may raise an exception, and the except block contains the code that handles the exception if it occurs. By using these statements, you can prevent your program from crashing and provide meaningful error messages to the user."
   ]
  },
  {
   "cell_type": "markdown",
   "id": "3838fcd1-ba98-4657-b3e6-0f2f3892b2d6",
   "metadata": {},
   "source": [
    "Q4. Explain with an example:\n",
    "\n",
    " a. try and else\n",
    " b. finally\n",
    " c. raise"
   ]
  },
  {
   "cell_type": "markdown",
   "id": "d5379662-1d71-4c5a-8f13-20d9cee1455b",
   "metadata": {},
   "source": [
    "ou can use the else block along with the try and except blocks. The else block is executed if no exception is raised in the try block. Here's an example"
   ]
  },
  {
   "cell_type": "code",
   "execution_count": 7,
   "id": "fe89ea17-5509-4f60-8b21-843c3aacf432",
   "metadata": {},
   "outputs": [
    {
     "name": "stdin",
     "output_type": "stream",
     "text": [
      "Enter a number:  22\n"
     ]
    },
    {
     "name": "stdout",
     "output_type": "stream",
     "text": [
      "10 divided by 22 is 0.45454545454545453\n"
     ]
    }
   ],
   "source": [
    "try:\n",
    "    x = int(input(\"Enter a number: \"))\n",
    "    y = 10 / x\n",
    "except ZeroDivisionError:\n",
    "    print(\"Cannot divide by zero\")\n",
    "else:\n",
    "    print(f\"10 divided by {x} is {y}\")\n"
   ]
  },
  {
   "cell_type": "markdown",
   "id": "e74eabc8-44fb-4112-b1cf-75c1c2203791",
   "metadata": {},
   "source": [
    "In this example, the try block contains the code that may raise a ZeroDivisionError exception. If the exception is not raised, the code in the else block will be executed, which in this case is a message that says \"10 divided by x is y\"."
   ]
  },
  {
   "cell_type": "markdown",
   "id": "70a2ecf5-177f-4d25-9eac-3e312890faaa",
   "metadata": {},
   "source": [
    "b. finally:\n",
    "\n",
    "The finally block is used along with the try and except blocks. The code in the finally block is always executed, whether an exception is raised or not. Here's an example:"
   ]
  },
  {
   "cell_type": "code",
   "execution_count": 8,
   "id": "354e2cca-8059-46b6-b74a-05c6b737b256",
   "metadata": {},
   "outputs": [
    {
     "name": "stdout",
     "output_type": "stream",
     "text": [
      "An error occurred while reading the file\n"
     ]
    },
    {
     "ename": "NameError",
     "evalue": "name 'f' is not defined",
     "output_type": "error",
     "traceback": [
      "\u001b[1;31m---------------------------------------------------------------------------\u001b[0m",
      "\u001b[1;31mNameError\u001b[0m                                 Traceback (most recent call last)",
      "\u001b[1;32m~\\AppData\\Local\\Temp\\ipykernel_6028\\3460905632.py\u001b[0m in \u001b[0;36m<module>\u001b[1;34m\u001b[0m\n\u001b[0;32m      5\u001b[0m     \u001b[0mprint\u001b[0m\u001b[1;33m(\u001b[0m\u001b[1;34m\"An error occurred while reading the file\"\u001b[0m\u001b[1;33m)\u001b[0m\u001b[1;33m\u001b[0m\u001b[1;33m\u001b[0m\u001b[0m\n\u001b[0;32m      6\u001b[0m \u001b[1;32mfinally\u001b[0m\u001b[1;33m:\u001b[0m\u001b[1;33m\u001b[0m\u001b[1;33m\u001b[0m\u001b[0m\n\u001b[1;32m----> 7\u001b[1;33m     \u001b[0mf\u001b[0m\u001b[1;33m.\u001b[0m\u001b[0mclose\u001b[0m\u001b[1;33m(\u001b[0m\u001b[1;33m)\u001b[0m\u001b[1;33m\u001b[0m\u001b[1;33m\u001b[0m\u001b[0m\n\u001b[0m",
      "\u001b[1;31mNameError\u001b[0m: name 'f' is not defined"
     ]
    }
   ],
   "source": [
    "try:\n",
    "    f = open(\"file.txt\")\n",
    "    # do something with the file\n",
    "except IOError:\n",
    "    print(\"An error occurred while reading the file\")\n",
    "finally:\n",
    "    f.close()"
   ]
  },
  {
   "cell_type": "markdown",
   "id": "f1ec4ab9-bf76-4677-81de-890143334c74",
   "metadata": {},
   "source": [
    "In this example, the try block contains the code that may raise an IOError exception when opening the file. The except block handles the exception if it occurs, and the finally block ensures that the file is closed, even if an exception is raised.\n",
    "\n",
    "c. raise:\n",
    "\n",
    "The raise keyword is used in Python to manually raise an exception. Here's an example:"
   ]
  },
  {
   "cell_type": "code",
   "execution_count": 9,
   "id": "91bc2ee3-ca16-4d20-a00d-c3fa42df9b02",
   "metadata": {},
   "outputs": [
    {
     "name": "stdin",
     "output_type": "stream",
     "text": [
      "Enter a positive number:  -22\n"
     ]
    },
    {
     "ename": "ValueError",
     "evalue": "Number must be positive",
     "output_type": "error",
     "traceback": [
      "\u001b[1;31m---------------------------------------------------------------------------\u001b[0m",
      "\u001b[1;31mValueError\u001b[0m                                Traceback (most recent call last)",
      "\u001b[1;32m~\\AppData\\Local\\Temp\\ipykernel_6028\\1740072781.py\u001b[0m in \u001b[0;36m<module>\u001b[1;34m\u001b[0m\n\u001b[0;32m      1\u001b[0m \u001b[0mx\u001b[0m \u001b[1;33m=\u001b[0m \u001b[0minput\u001b[0m\u001b[1;33m(\u001b[0m\u001b[1;34m\"Enter a positive number: \"\u001b[0m\u001b[1;33m)\u001b[0m\u001b[1;33m\u001b[0m\u001b[1;33m\u001b[0m\u001b[0m\n\u001b[0;32m      2\u001b[0m \u001b[1;32mif\u001b[0m \u001b[0mint\u001b[0m\u001b[1;33m(\u001b[0m\u001b[0mx\u001b[0m\u001b[1;33m)\u001b[0m \u001b[1;33m<\u001b[0m \u001b[1;36m0\u001b[0m\u001b[1;33m:\u001b[0m\u001b[1;33m\u001b[0m\u001b[1;33m\u001b[0m\u001b[0m\n\u001b[1;32m----> 3\u001b[1;33m     \u001b[1;32mraise\u001b[0m \u001b[0mValueError\u001b[0m\u001b[1;33m(\u001b[0m\u001b[1;34m\"Number must be positive\"\u001b[0m\u001b[1;33m)\u001b[0m\u001b[1;33m\u001b[0m\u001b[1;33m\u001b[0m\u001b[0m\n\u001b[0m\u001b[0;32m      4\u001b[0m \u001b[1;32melse\u001b[0m\u001b[1;33m:\u001b[0m\u001b[1;33m\u001b[0m\u001b[1;33m\u001b[0m\u001b[0m\n\u001b[0;32m      5\u001b[0m     \u001b[0mprint\u001b[0m\u001b[1;33m(\u001b[0m\u001b[1;34mf\"The square of {x} is {int(x)**2}\"\u001b[0m\u001b[1;33m)\u001b[0m\u001b[1;33m\u001b[0m\u001b[1;33m\u001b[0m\u001b[0m\n",
      "\u001b[1;31mValueError\u001b[0m: Number must be positive"
     ]
    }
   ],
   "source": [
    "x = input(\"Enter a positive number: \")\n",
    "if int(x) < 0:\n",
    "    raise ValueError(\"Number must be positive\")\n",
    "else:\n",
    "    print(f\"The square of {x} is {int(x)**2}\")\n"
   ]
  },
  {
   "cell_type": "markdown",
   "id": "2027df33-3567-4970-86bc-5c0b03a81c3a",
   "metadata": {},
   "source": [
    "In this example, the code checks if the input number is positive using an if statement. If the number is negative, the code raises a ValueError exception with a message that says \"Number must be positive\". If the number is positive, the code prints the square of the number. By using raise, you can create custom exceptions and provide meaningful error messages to the user."
   ]
  },
  {
   "cell_type": "markdown",
   "id": "bfac47db-1676-42f1-a36b-026dbbc0fcd0",
   "metadata": {},
   "source": [
    "Q5. What are Custom Exceptions in python? Why do we need Custom Exceptions? Explain with an example"
   ]
  },
  {
   "cell_type": "markdown",
   "id": "3057e5c2-c317-4b6d-89a9-a106eb8e91a2",
   "metadata": {},
   "source": [
    "custom exceptions are user-defined exceptions that are raised when a specific condition occurs in a program. We need custom exceptions to provide meaningful error messages to the user and to make our code more readable and maintainable.\n",
    "\n",
    "Here's an example of a custom exception in Python:"
   ]
  },
  {
   "cell_type": "code",
   "execution_count": 10,
   "id": "643a2110-dfca-4a53-8263-4f10d8a28505",
   "metadata": {},
   "outputs": [
    {
     "name": "stdin",
     "output_type": "stream",
     "text": [
      "Enter your age:  48\n"
     ]
    },
    {
     "name": "stdout",
     "output_type": "stream",
     "text": [
      "You are eligible to vote\n"
     ]
    }
   ],
   "source": [
    "class InvalidAgeException(Exception):\n",
    "    def __init__(self, message):\n",
    "        super().__init__(message)\n",
    "\n",
    "age = int(input(\"Enter your age: \"))\n",
    "if age < 18:\n",
    "    raise InvalidAgeException(\"You must be 18 years or older to vote\")\n",
    "else:\n",
    "    print(\"You are eligible to vote\")"
   ]
  },
  {
   "cell_type": "markdown",
   "id": "d93cfb74-1eeb-47d4-b62f-a79a8f79a07a",
   "metadata": {},
   "source": [
    "In this example, the code defines a custom exception called InvalidAgeException, which is raised if the user's age is less than 18. The custom exception inherits from the built-in Exception class and overrides its constructor to accept a message parameter. The raise keyword is used to manually raise the InvalidAgeException exception if the user's age is less than 18. If the user's age is 18 or older, the code prints a message that says \"You are eligible to vote\".\n",
    "\n",
    "By using custom exceptions, we can make our code more readable and maintainable by providing meaningful error messages to the user. We can also handle different types of errors in different ways, depending on the specific needs of our program."
   ]
  },
  {
   "cell_type": "markdown",
   "id": "2f2f30d3-8f49-4203-bc9a-58c641577fcb",
   "metadata": {},
   "source": [
    "Q6. Create custom exception class. Use this class to handle an exception."
   ]
  },
  {
   "cell_type": "code",
   "execution_count": null,
   "id": "fa5ae640-432d-42cf-89b6-a73d3f52dee3",
   "metadata": {},
   "outputs": [],
   "source": [
    "class NegativeNumberException(Exception):\n",
    "    def __init__(self, message):\n",
    "        super().__init__(message)\n",
    "\n",
    "def square_root(n):\n",
    "    if n < 0:\n",
    "        raise NegativeNumberException(\"Cannot calculate square root of a negative number\")\n",
    "    return n**0.5\n",
    "\n",
    "try:\n",
    "    x = int(input(\"Enter a number: \"))\n",
    "    result = square_root(x)\n",
    "    print(f\"The square root of {x} is {result}\")\n",
    "except NegativeNumberException as e:\n",
    "    print(f\"Error: {e}\")"
   ]
  },
  {
   "cell_type": "markdown",
   "id": "eb9c12c1-4118-4270-94d8-a5d80bde53ba",
   "metadata": {},
   "source": [
    "In this example, the NegativeNumberException class is defined with a constructor that accepts a message parameter. The square_root function checks if the input number is negative, and if so, raises a NegativeNumberException with a message that says \"Cannot calculate square root of a negative number\". In the try block, the square_root function is called with user input as the argument, and the result is printed if no exception is raised. If a NegativeNumberException is raised, the except block catches the exception and prints the error message.\n",
    "\n",
    "By defining and using custom exceptions, we can provide more informative and understandable error messages to the user, which can make our code easier to use and maintain."
   ]
  }
 ],
 "metadata": {
  "kernelspec": {
   "display_name": "Python 3 (ipykernel)",
   "language": "python",
   "name": "python3"
  },
  "language_info": {
   "codemirror_mode": {
    "name": "ipython",
    "version": 3
   },
   "file_extension": ".py",
   "mimetype": "text/x-python",
   "name": "python",
   "nbconvert_exporter": "python",
   "pygments_lexer": "ipython3",
   "version": "3.9.13"
  }
 },
 "nbformat": 4,
 "nbformat_minor": 5
}
