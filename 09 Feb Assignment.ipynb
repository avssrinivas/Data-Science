{
 "cells": [
  {
   "cell_type": "markdown",
   "id": "6d03cdb0-2f43-4e9a-9115-3b57884f76d9",
   "metadata": {},
   "source": [
    "###Q1, Create a vehicle class with an init method having instance variables as name_of_vehicle, max_speed\n",
    "and average_of_vehicle."
   ]
  },
  {
   "cell_type": "code",
   "execution_count": 7,
   "id": "ade2d557-7a5b-4549-80d7-566e0f449768",
   "metadata": {},
   "outputs": [],
   "source": [
    "class vehicle:\n",
    "    def __init__(self, name_of_vehicle, max_speed, average_of_vehicle):\n",
    "        self.name_of_vehicle = name_of_vehicle\n",
    "        self.max_speed = max_speed\n",
    "        self.average_of_vehicle = average_of_vehicle  "
   ]
  },
  {
   "cell_type": "markdown",
   "id": "c1b88049-0eb9-4181-888a-a0c26d1ff656",
   "metadata": {},
   "source": [
    "###Q2. Create a child class car from the vehicle class created in Que 1, which will inherit the vehicle class.\n",
    "Create a method named seating_capacity which takes capacity as an argument and returns the name of\n",
    "the vehicle and its seating capacity."
   ]
  },
  {
   "cell_type": "code",
   "execution_count": 9,
   "id": "9bc7d929-f622-43de-8027-3f293a74da46",
   "metadata": {},
   "outputs": [
    {
     "name": "stdout",
     "output_type": "stream",
     "text": [
      "Honda Civic has a seating capacity of 5 passengers.\n"
     ]
    }
   ],
   "source": [
    "class car(vehicle):\n",
    "    def seating_capacity(self, capacity):\n",
    "        return f\"{self.name_of_vehicle} has a seating capacity of {capacity} passengers.\"\n",
    "        \n",
    "obj_car = car(\"Honda Civic\", 180, 35)\n",
    "print(obj_car.seating_capacity(5))"
   ]
  },
  {
   "cell_type": "markdown",
   "id": "fd60574f-fcec-48dc-9e7c-69ebe0273940",
   "metadata": {},
   "source": [
    "###Q3. What is multiple inheritance? Write a python code to demonstrate multiple inheritance."
   ]
  },
  {
   "cell_type": "code",
   "execution_count": 11,
   "id": "55a2c2ee-6fd8-4a80-b924-b286822095f9",
   "metadata": {},
   "outputs": [],
   "source": [
    "## Mulitple inheritance is when a class inherits for multiple classes\n",
    "class class1:\n",
    "    def test_class1(self) : \n",
    "        print(\"this is my class 1\" )\n",
    "class class2 :\n",
    "    def test_class2(self) : \n",
    "        print(\"this is my class 2\")\n",
    "class class3 (class1 , class2) : \n",
    "    pass        "
   ]
  },
  {
   "cell_type": "markdown",
   "id": "3d019fd6-5d27-46d1-924f-885d7555b450",
   "metadata": {},
   "source": [
    "###Q4. What are getter and setter in python? Create a class and create a getter and a setter method in this\n",
    "class."
   ]
  },
  {
   "cell_type": "markdown",
   "id": "88bd4f1d-366f-4467-800a-e30dcb5f3ffc",
   "metadata": {},
   "source": [
    "getters and setters are methods that are used to retrieve and modify the values of instance variables of a class, respectively. These methods provide a way to encapsulate access to the instance variables and enforce validation rules, if needed."
   ]
  },
  {
   "cell_type": "code",
   "execution_count": null,
   "id": "ac8e76b3-0292-431e-bf80-fc709af208f8",
   "metadata": {},
   "outputs": [],
   "source": [
    "class bank_acount:\n",
    "    \n",
    "    def __init__(self , balance ):\n",
    "        self.__balance = balance\n",
    "    \n",
    "    def deposit(self , amount ) :\n",
    "        self.__balance = self.__balance + amount\n",
    "    \n",
    "    def withdraw(self , amount) : \n",
    "        if self.__balance >= amount : \n",
    "            self.__balance = self.__balance -amount\n",
    "            return True\n",
    "        else : \n",
    "            return False\n",
    "        \n",
    "    def get_balance(self) : \n",
    "        return self.__balance  "
   ]
  },
  {
   "cell_type": "markdown",
   "id": "a8bb75f4-2511-4053-aac5-8a116c61c48b",
   "metadata": {},
   "source": [
    "###Q5.What is method overriding in python? Write a python code to demonstrate method overriding."
   ]
  },
  {
   "cell_type": "markdown",
   "id": "2b6b9dd8-4e38-4abd-840f-b4d88fec2939",
   "metadata": {},
   "source": [
    "Method overriding is a concept in object-oriented programming where a subclass provides its own implementation of a method that is already defined in its superclass. This allows the subclass to modify the behavior of the method without changing the original implementation in the superclass.\n",
    "\n",
    "In Python, method overriding is achieved by defining a method with the same name as the method in the superclass in the subclass. The method in the subclass can then call the original method in the superclass using the super() function."
   ]
  },
  {
   "cell_type": "code",
   "execution_count": 14,
   "id": "c433d048-3d6f-4608-bfc4-b8427bc06e14",
   "metadata": {},
   "outputs": [],
   "source": [
    "class Animal:\n",
    "    def speak(self):\n",
    "        print(\"The animal makes a sound.\")\n",
    "\n",
    "class Cat(Animal):\n",
    "    def speak(self):\n",
    "        super().speak()\n",
    "        print(\"The cat meows.\")\n",
    "\n",
    "class Dog(Animal):\n",
    "    def speak(self):\n",
    "        super().speak()\n",
    "        print(\"The dog barks.\")"
   ]
  },
  {
   "cell_type": "code",
   "execution_count": 15,
   "id": "148283bd-99e6-487d-9dcd-5916252d0c14",
   "metadata": {},
   "outputs": [
    {
     "name": "stdout",
     "output_type": "stream",
     "text": [
      "The animal makes a sound.\n",
      "The animal makes a sound.\n",
      "The cat meows.\n",
      "The animal makes a sound.\n",
      "The dog barks.\n"
     ]
    }
   ],
   "source": [
    "# Create instances of the classes\n",
    "animal = Animal()\n",
    "cat = Cat()\n",
    "dog = Dog()\n",
    "\n",
    "# Call the speak method on the instances\n",
    "animal.speak()\n",
    "cat.speak()\n",
    "dog.speak()"
   ]
  },
  {
   "cell_type": "code",
   "execution_count": null,
   "id": "d78518a0-3b7e-4a20-bc0a-0f89f03e968a",
   "metadata": {},
   "outputs": [],
   "source": []
  }
 ],
 "metadata": {
  "kernelspec": {
   "display_name": "Python 3 (ipykernel)",
   "language": "python",
   "name": "python3"
  },
  "language_info": {
   "codemirror_mode": {
    "name": "ipython",
    "version": 3
   },
   "file_extension": ".py",
   "mimetype": "text/x-python",
   "name": "python",
   "nbconvert_exporter": "python",
   "pygments_lexer": "ipython3",
   "version": "3.9.13"
  }
 },
 "nbformat": 4,
 "nbformat_minor": 5
}
