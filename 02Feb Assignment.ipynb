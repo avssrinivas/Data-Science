{
 "cells": [
  {
   "cell_type": "markdown",
   "id": "d123ddd8-29a1-45a8-8623-bdf26e022d86",
   "metadata": {},
   "source": [
    "### Q1. What are the characteristics of the tuples? Is tuple immutable?"
   ]
  },
  {
   "cell_type": "markdown",
   "id": "95df8ab3-19b3-47c5-953b-5151c162d43e",
   "metadata": {},
   "source": [
    "###Tuples are ordered - the elements in a tuple have a specific order, and that order is preserved when you iterate over the tuple.\n",
    "\n",
    "Tuples are immutable - once a tuple is created, you cannot add or remove elements from it, or change the values of the elements.\n",
    "\n",
    "Tuples can contain elements of different types - a tuple can contain elements of different data types, including numbers, strings, and other tuples.\n",
    "\n",
    "The immutability of tuples makes them useful in situations where you need to store a fixed set of values that should not be modified, such as a set of configuration values or a list of constants. Additionally, tuples are more memory-efficient than lists, which can be important when working with large datasets."
   ]
  },
  {
   "cell_type": "code",
   "execution_count": 3,
   "id": "349de436-7c8b-4c4c-935d-8d035528b9b4",
   "metadata": {},
   "outputs": [
    {
     "name": "stdout",
     "output_type": "stream",
     "text": [
      "(1, 'hello', (2, 3), 4.5)\n"
     ]
    }
   ],
   "source": [
    "my_tuple = (1, \"hello\", (2, 3), 4.5)\n",
    "\n",
    "print(my_tuple)"
   ]
  },
  {
   "cell_type": "markdown",
   "id": "a51d8144-0b74-4613-8c1c-a1a1be36a49c",
   "metadata": {},
   "source": [
    "#### Q2. What are the two tuple methods in python? Give an example of each method. Give a reason why tuples have only two in-built methods as compared to Lists."
   ]
  },
  {
   "cell_type": "markdown",
   "id": "f28722b9-3388-4878-b754-a8f7f637e23b",
   "metadata": {
    "tags": []
   },
   "source": [
    "### count and index are the two tuple methods in python.\n",
    "count() method: This method returns the number of times a specified value appears in a tuple.\n",
    "index() method: This method returns the index of the first occurrence of a specified value in a tuple."
   ]
  },
  {
   "cell_type": "code",
   "execution_count": 11,
   "id": "54e01cac-55f1-4f13-8f1f-0330c2c20404",
   "metadata": {},
   "outputs": [
    {
     "name": "stdout",
     "output_type": "stream",
     "text": [
      "0\n",
      "3\n"
     ]
    }
   ],
   "source": [
    "print(my_tuple.count('rt'))\n",
    "print(my_tuple.index(4.5))"
   ]
  },
  {
   "cell_type": "markdown",
   "id": "2b28a3aa-047c-41db-b96a-2dd437accabc",
   "metadata": {},
   "source": [
    "###Tuples have only two in-built methods as compared to lists because tuples are designed to be immutable, which means that once created, their contents cannot be changed. Adding or removing elements from a tuple would require creating a new tuple with the modified contents, which can be inefficient for large tuples. Therefore, most list methods that modify the list in place, such as append(), remove(), and sort(), are not applicable to tuples. The two tuple methods that do exist, count() and index(), are methods that do not modify the tuple itself, but only return information about its contents."
   ]
  },
  {
   "cell_type": "markdown",
   "id": "99061f18-2608-4cd0-b175-4cc6ba0a4986",
   "metadata": {
    "tags": []
   },
   "source": [
    "### Q3. Which collection datatypes in python do not allow duplicate items? Write a code using a set to remove duplicates from the given list.\n",
    "List = [1, 1, 1, 2, 1, 3, 1, 4, 2, 1, 2, 2, 2, 3, 2, 4, 3, 1, 3, 2, 3, 3, 3, 4, 4, 1, 4, 2, 4, 3, 4, 4]"
   ]
  },
  {
   "cell_type": "code",
   "execution_count": null,
   "id": "ab7ba102-b45b-4a81-9ed2-953bfa6bc5f0",
   "metadata": {},
   "outputs": [],
   "source": [
    "###set datatype in python do not allow duplicate items. "
   ]
  },
  {
   "cell_type": "code",
   "execution_count": 13,
   "id": "6fe1989f-5e1f-4ec4-83b0-bc65012125e5",
   "metadata": {},
   "outputs": [
    {
     "name": "stdout",
     "output_type": "stream",
     "text": [
      "{1, 2, 3, 4}\n"
     ]
    }
   ],
   "source": [
    "List = [1, 1, 1, 2, 1, 3, 1, 4, 2, 1, 2, 2, 2, 3, 2, 4, 3, 1, 3, 2, 3, 3, 3, 4, 4, 1, 4, 2, 4, 3, 4, 4]\n",
    "print(set(List))"
   ]
  },
  {
   "cell_type": "markdown",
   "id": "a94d5dc7-7186-409c-a391-e71dd16daea3",
   "metadata": {
    "tags": []
   },
   "source": [
    "### Q4. Explain the difference between the union() and update() methods for a set. Give an example of each method."
   ]
  },
  {
   "cell_type": "code",
   "execution_count": 16,
   "id": "e3cabe3c-1751-472b-90ee-9295f21bb06a",
   "metadata": {},
   "outputs": [
    {
     "name": "stdout",
     "output_type": "stream",
     "text": [
      "{1, 2, 3, 4, 5, 6, 7}\n"
     ]
    }
   ],
   "source": [
    "my_set1 = {1,2,3,4}\n",
    "my_set2 = {4,5,6,7}\n",
    "my_set = my_set1.union(my_set2)\n",
    "print(my_set)"
   ]
  },
  {
   "cell_type": "code",
   "execution_count": 19,
   "id": "a51849f4-e7ac-4a11-a2ba-41a38feaebbc",
   "metadata": {},
   "outputs": [
    {
     "name": "stdout",
     "output_type": "stream",
     "text": [
      "{1, 2, 3, 4, 5, 6, 7}\n",
      "{4, 5, 6, 7}\n"
     ]
    }
   ],
   "source": [
    "my_set1 = {1,2,3,4}\n",
    "my_set2 = {4,5,6,7}\n",
    "my_set1.update(my_set2)\n",
    "print(my_set1)\n",
    "print(my_set2)"
   ]
  },
  {
   "cell_type": "markdown",
   "id": "201cb65e-edd4-4fd1-a8c9-ee1a77cb875a",
   "metadata": {},
   "source": [
    "###the union() method returns a new set that is the combination of all the sets involved, without modifying any of the original sets, while the update() method modifies the set on which it is called by adding all the unique elements from the other set(s) to it."
   ]
  },
  {
   "cell_type": "markdown",
   "id": "ef32416b-431f-4b63-b5d9-f6f1161af398",
   "metadata": {},
   "source": [
    "### Q5. What is a dictionary? Give an example. Also, state whether a dictionary is ordered or unordered."
   ]
  },
  {
   "cell_type": "markdown",
   "id": "a201a077-8893-4ca2-a7a5-3840a57936a6",
   "metadata": {},
   "source": [
    "###Dictionary is a collection that is used to store key-value pairs. \n",
    "Each key-value pair is stored as an item in the dictionary, where the key is used to access its corresponding value.\n",
    "Dictionaries are denoted by curly braces {} and key-value pairs are separated by a colon :. Keys must be unique and immutable (i.e., they cannot be changed once they are created), while values can be of any data type and can be duplicated.\n",
    "e.g: ages = {\"John\": 28, \"Mary\": 34, \"Bob\": 21}\n",
    "\n",
    "One important thing to note about dictionaries in Python is that they are unordered. \n",
    "This means that the items in a dictionary do not have a specific order, and their order can change each time the dictionary is accessed or modified. \n",
    "\n",
    "However, starting from Python 3.7, dictionaries are guaranteed to maintain the insertion order of their items."
   ]
  },
  {
   "cell_type": "markdown",
   "id": "2aa4566a-1275-4240-8490-1ffe2e9b2cb9",
   "metadata": {},
   "source": [
    "### Q6. Can we create a nested dictionary? If so, please give an example by creating a simple one-level nested dictionary."
   ]
  },
  {
   "cell_type": "markdown",
   "id": "73dd8e50-f02e-461e-af13-8d24550b21fb",
   "metadata": {},
   "source": [
    "###Yes. We can create nested dictionary in python"
   ]
  },
  {
   "cell_type": "code",
   "execution_count": 24,
   "id": "01902fd2-2603-4e92-85ce-a0a4ed7d0877",
   "metadata": {},
   "outputs": [
    {
     "name": "stdout",
     "output_type": "stream",
     "text": [
      "John\n",
      "34\n"
     ]
    }
   ],
   "source": [
    "person1 = {\"name\": \"John\", \"age\": 28}\n",
    "person2 = {\"name\": \"Mary\", \"age\": 34}\n",
    "\n",
    "people = {\"person1\": person1, \"person2\": person2}\n",
    "print(people[\"person1\"][\"name\"]) \n",
    "print(people[\"person2\"][\"age\"])"
   ]
  },
  {
   "cell_type": "markdown",
   "id": "c165b59a-b969-429d-a1c5-255dc7ae3acd",
   "metadata": {},
   "source": [
    "### Q7. Using setdefault() method, create key named topics in the given dictionary and also add the value of the key as this list \n",
    "['Python', 'Machine Learning’, 'Deep Learning'] dict1 = {'language' : 'Python', 'course': 'Data Science Masters'}"
   ]
  },
  {
   "cell_type": "code",
   "execution_count": 38,
   "id": "e08f56d6-2ab8-484c-a77c-9960597c75f5",
   "metadata": {},
   "outputs": [
    {
     "name": "stdout",
     "output_type": "stream",
     "text": [
      "0\n",
      "Python\n",
      "Machine Learning\n",
      "Deep Learning\n",
      "{'language': 'Python', 'course': 'Data Science Masters', 'topics': ['Python', 'Machine Learning', 'Deep Learning']}\n"
     ]
    }
   ],
   "source": [
    "list = ['Python', 'Machine Learning', 'Deep Learning']\n",
    "dict1 = {'language' : 'Python', 'course': 'Data Science Masters'}\n",
    "\n",
    "dict1.setdefault('topics', [])\n",
    "\n",
    "i=0\n",
    "print(i)\n",
    "while i < len(list):\n",
    "    print(list[i])\n",
    "    dict1['topics'].append(list[i])\n",
    "    i +=1\n",
    "\n",
    "print(dict1)"
   ]
  },
  {
   "cell_type": "code",
   "execution_count": 39,
   "id": "cadda25e-226a-4768-96fd-cf4153d788d2",
   "metadata": {},
   "outputs": [
    {
     "name": "stdout",
     "output_type": "stream",
     "text": [
      "{'language': 'Python', 'course': 'Data Science Masters', 'topics': ['Python', 'Machine Learning', 'Deep Learning']}\n"
     ]
    }
   ],
   "source": [
    "list = ['Python', 'Machine Learning', 'Deep Learning']\n",
    "dict1 = {'language' : 'Python', 'course': 'Data Science Masters'}\n",
    "\n",
    "dict1.setdefault('topics', list)\n",
    "print(dict1)"
   ]
  },
  {
   "cell_type": "markdown",
   "id": "45fe739e-5830-4674-ad4e-91066de069f5",
   "metadata": {},
   "source": [
    "### Q8. What are the three view objects in dictionaries? Use the three in-built methods in python to display these three view objects for the given dictionary.\n",
    "dict1 = {'Sport': 'Cricket' , 'Teams': ['India', 'Australia', 'England', 'South Africa', 'Sri Lanka', 'New Zealand']}"
   ]
  },
  {
   "cell_type": "code",
   "execution_count": 42,
   "id": "54d3dbee-e84a-449e-80f6-e272a6ef361a",
   "metadata": {},
   "outputs": [
    {
     "name": "stdout",
     "output_type": "stream",
     "text": [
      "Keys view objects\n",
      "dict_keys(['Sport', 'Teams'])\n",
      "Values view objects\n",
      "dict_values(['Cricket', ['India', 'Australia', 'England', 'South Africa', 'Sri Lanka', 'New Zealand']])\n",
      "Items view objects\n"
     ]
    },
    {
     "data": {
      "text/plain": [
       "dict_items([('Sport', 'Cricket'), ('Teams', ['India', 'Australia', 'England', 'South Africa', 'Sri Lanka', 'New Zealand'])])"
      ]
     },
     "execution_count": 42,
     "metadata": {},
     "output_type": "execute_result"
    }
   ],
   "source": [
    "## Keys view object\n",
    "## Values view object\n",
    "## Items view object\n",
    "\n",
    "dict1 = {'Sport': 'Cricket' , 'Teams': ['India', 'Australia', 'England', 'South Africa', 'Sri Lanka', 'New Zealand']}\n",
    "print(\"Keys view objects\")\n",
    "print(dict1.keys())\n",
    "print(\"Values view objects\")\n",
    "print(dict1.values())\n",
    "print(\"Items view objects\")\n",
    "dict1.items()"
   ]
  }
 ],
 "metadata": {
  "kernelspec": {
   "display_name": "Python 3 (ipykernel)",
   "language": "python",
   "name": "python3"
  },
  "language_info": {
   "codemirror_mode": {
    "name": "ipython",
    "version": 3
   },
   "file_extension": ".py",
   "mimetype": "text/x-python",
   "name": "python",
   "nbconvert_exporter": "python",
   "pygments_lexer": "ipython3",
   "version": "3.9.13"
  }
 },
 "nbformat": 4,
 "nbformat_minor": 5
}
