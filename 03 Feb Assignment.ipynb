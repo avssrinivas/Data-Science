{
 "cells": [
  {
   "cell_type": "markdown",
   "id": "38f8a2a0-a9b6-4f05-9adf-1b9b412d6777",
   "metadata": {},
   "source": [
    "### Q1. Which keyword is used to create a function? Create a function to return a list of odd numbers in the range of 1 to 25."
   ]
  },
  {
   "cell_type": "code",
   "execution_count": 4,
   "id": "bc92dc9d-2d8e-416e-8c64-a1c6c8a65142",
   "metadata": {},
   "outputs": [
    {
     "name": "stdout",
     "output_type": "stream",
     "text": [
      "1\n",
      "3\n",
      "5\n",
      "7\n",
      "9\n",
      "11\n",
      "13\n",
      "15\n",
      "17\n",
      "19\n",
      "21\n",
      "23\n",
      "25\n"
     ]
    }
   ],
   "source": [
    "## def keyword is used to create a function\n",
    "\n",
    "def odd_num_1_to_25():\n",
    "    for i in range(1,26):\n",
    "        if i%2 != 0:\n",
    "            print(i)\n",
    "odd_num_1_to_25()\n",
    "            \n"
   ]
  },
  {
   "cell_type": "markdown",
   "id": "a47a94e3-bdbe-4864-ae5d-505f5108fd05",
   "metadata": {},
   "source": [
    "### Q2. Why *args and **kwargs is used in some functions? Create a function each for *args and **kwargs to demonstrate their use."
   ]
  },
  {
   "cell_type": "markdown",
   "id": "e396ac77-5a56-4455-a706-f2d2427f12be",
   "metadata": {},
   "source": [
    "###*args and **kwargs are special syntax in Python that allow functions to accept a variable number of arguments.\n",
    "*args is used to pass a variable number of non-keyword arguments to a function. \n",
    "The * before args tells Python to take all the positional arguments that are passed to the function and pack them into a tuple. \n",
    "The function can then iterate over the tuple to access each argument.\n",
    "Here is an example for *args"
   ]
  },
  {
   "cell_type": "code",
   "execution_count": 1,
   "id": "48c3ca01-9133-4373-8366-34c0cfeb13da",
   "metadata": {},
   "outputs": [],
   "source": [
    "def my_sum(*args):\n",
    "    total = 0\n",
    "    for num in args:\n",
    "        total += num\n",
    "    return total"
   ]
  },
  {
   "cell_type": "code",
   "execution_count": 2,
   "id": "222b471f-6090-4551-bc6b-539ce4c6f9e1",
   "metadata": {},
   "outputs": [
    {
     "data": {
      "text/plain": [
       "15"
      ]
     },
     "execution_count": 2,
     "metadata": {},
     "output_type": "execute_result"
    }
   ],
   "source": [
    "my_sum(1,2,3,4,5)"
   ]
  },
  {
   "cell_type": "code",
   "execution_count": 3,
   "id": "d4883d14-30db-43ab-9c1e-2f5e3f83ae71",
   "metadata": {},
   "outputs": [
    {
     "data": {
      "text/plain": [
       "329"
      ]
     },
     "execution_count": 3,
     "metadata": {},
     "output_type": "execute_result"
    }
   ],
   "source": [
    "my_sum(45,56,75, 40, 23,34,56)"
   ]
  },
  {
   "cell_type": "markdown",
   "id": "108a1439-a067-4bf6-bdc0-834b5211c4a4",
   "metadata": {},
   "source": [
    "###**kwargs is used to pass a variable number of keyword arguments to a function. \n",
    "The ** before kwargs tells Python to take all the keyword arguments that are passed to the function and pack them into a dictionary. \n",
    "The function can then access each argument using its key.\n",
    "Here is an example for **kargs"
   ]
  },
  {
   "cell_type": "code",
   "execution_count": 4,
   "id": "2c79352c-1c92-4560-8084-18429d560cee",
   "metadata": {},
   "outputs": [],
   "source": [
    "### This function takes any number of keyword arguments and prints them out. \n",
    "### Here is how you can call this function with different keyword arguments:\n",
    "def print_info(**kwargs):\n",
    "    for key, value in kwargs.items():\n",
    "        print(f\"{key}: {value}\")"
   ]
  },
  {
   "cell_type": "code",
   "execution_count": 5,
   "id": "f038d8c1-a8ec-4b76-ae16-bc955d80ba02",
   "metadata": {},
   "outputs": [
    {
     "name": "stdout",
     "output_type": "stream",
     "text": [
      "name: Alice\n",
      "age: 30\n",
      "city: New York\n"
     ]
    }
   ],
   "source": [
    "print_info(name=\"Alice\", age=30, city=\"New York\")"
   ]
  },
  {
   "cell_type": "code",
   "execution_count": 6,
   "id": "0af8dd71-a78a-4b7e-8503-7f953bb1eac0",
   "metadata": {},
   "outputs": [
    {
     "name": "stdout",
     "output_type": "stream",
     "text": [
      "country: Japan\n",
      "language: Japanese\n"
     ]
    }
   ],
   "source": [
    "print_info(country=\"Japan\", language=\"Japanese\")"
   ]
  },
  {
   "cell_type": "markdown",
   "id": "c2120d44-f1d9-4106-863f-363b22453420",
   "metadata": {},
   "source": [
    "###In both examples, the use of *args and **kwargs allows the function to accept a variable number of arguments, making it more flexible and versatile."
   ]
  },
  {
   "cell_type": "markdown",
   "id": "66292c14-3e47-4a58-ae42-5230eeb27c4b",
   "metadata": {},
   "source": [
    "###Q3. What is an iterator in python? Name the method used to initialise the iterator object and the method used for iteration. Use these methods to print the first five elements of the given list [2, 4, 6, 8, 10, 12, 14, 16,\n",
    "18, 20]."
   ]
  },
  {
   "cell_type": "markdown",
   "id": "ca937754-d0a9-4b8b-a5aa-5f1c084ffe2d",
   "metadata": {},
   "source": [
    "###An iterator is an object that can be iterated (looped) upon.An iterator is used to retrieve elements from a collection, one at a time, without the need to access the entire collection at once. It is an implementation of the iterator protocol, which requires that objects must implement two methods:__iter__() and __next__().\n",
    "\n",
    "The __iter__() method is used to initialize an iterator object, and it returns the iterator object itself. The __next__() method is used to retrieve the next element from the iterator. When there are no more elements to retrieve, it raises the StopIteration exception."
   ]
  },
  {
   "cell_type": "code",
   "execution_count": 8,
   "id": "27d1938b-babb-4590-b484-651658027d23",
   "metadata": {},
   "outputs": [
    {
     "name": "stdout",
     "output_type": "stream",
     "text": [
      "2\n",
      "4\n",
      "6\n",
      "8\n",
      "10\n"
     ]
    }
   ],
   "source": [
    "my_list = [2, 4, 6, 8, 10, 12, 14, 16, 18, 20]\n",
    "\n",
    "my_iterator = iter(my_list)    # Initializing the iterator object\n",
    "\n",
    "for i in range(5):             # Iterating through the first 5 elements\n",
    "    element = next(my_iterator)    \n",
    "    print(element)"
   ]
  },
  {
   "cell_type": "markdown",
   "id": "81719cb5-120d-4707-8a8b-cfd1c02e3a78",
   "metadata": {},
   "source": [
    "###In the above example, we first create a list my_list. Then, we create an iterator object my_iterator by calling the iter() method on my_list. We use a for loop to iterate through the first five elements of the list. Inside the loop, we call the next() method on the iterator object to retrieve the next element, and then print it out.\n",
    "\n",
    "Note that we used the range(5) function to limit the number of iterations to five. If we did not do this, the loop would continue until there were no more elements in the list, and we would get a StopIteration exception."
   ]
  },
  {
   "cell_type": "markdown",
   "id": "53f2ad27-b3da-472e-a9d5-427655e99d1f",
   "metadata": {},
   "source": [
    "Q4. What is a generator function in python? Why yield keyword is used? Give an example of a generator\n",
    "function."
   ]
  },
  {
   "cell_type": "markdown",
   "id": "ad1837ee-d6b8-4158-9d40-11b4b8af3c98",
   "metadata": {},
   "source": [
    "###A generator function in Python is a special type of function that generates a sequence of values using the yield keyword instead of return. It allows you to generate a sequence of values on the fly, as opposed to creating a list or tuple of all the values at once.\n",
    "\n",
    "The yield keyword is used to produce a value from the generator and pause the generator function's execution until the next value is requested. Each time a yield statement is encountered, the generator's state is saved, and the yielded value is returned to the caller. The next time the generator is called, it resumes from where it left off, using the saved state."
   ]
  },
  {
   "cell_type": "code",
   "execution_count": 9,
   "id": "1df2be90-1896-48e3-abb6-352e8979c761",
   "metadata": {},
   "outputs": [],
   "source": [
    "def fibonacci(n):\n",
    "    a, b = 0, 1\n",
    "    for i in range(n):\n",
    "        yield a\n",
    "        a, b = b, a + b"
   ]
  },
  {
   "cell_type": "code",
   "execution_count": 10,
   "id": "64a1ed76-e8c1-4c05-9b5c-0eb19b588894",
   "metadata": {},
   "outputs": [
    {
     "name": "stdout",
     "output_type": "stream",
     "text": [
      "0\n",
      "1\n",
      "1\n",
      "2\n",
      "3\n",
      "5\n",
      "8\n",
      "13\n",
      "21\n",
      "34\n"
     ]
    }
   ],
   "source": [
    "fib_gen = fibonacci(10)\n",
    "for number in fib_gen:\n",
    "    print(number)"
   ]
  },
  {
   "cell_type": "markdown",
   "id": "e6dd6ef0-df1f-4ca6-8f0e-277e0282ee85",
   "metadata": {},
   "source": [
    "###In this example, the fibonacci() function defines a loop that generates the Fibonacci sequence using the yield keyword to return each number in the sequence one at a time. When the for loop iterates over the generator object, it generates the first n Fibonacci numbers on the fly.\n",
    "\n",
    "The use of a generator function and the yield keyword in this example allows the function to generate each value in the sequence as needed, without having to create and store the entire sequence in memory at once. This can be useful for generating large sequences or for generating sequences on the fly based on user input or other factors."
   ]
  },
  {
   "cell_type": "markdown",
   "id": "30412a09-e018-4649-b01b-f2e6f7e20c47",
   "metadata": {},
   "source": [
    "### Q5. Create a generator function for prime numbers less than 1000. Use the next() method to print the first 20 prime numbers."
   ]
  },
  {
   "cell_type": "code",
   "execution_count": 25,
   "id": "ec9b58c3-b911-4679-b4ce-8c00db4d501c",
   "metadata": {},
   "outputs": [
    {
     "name": "stdout",
     "output_type": "stream",
     "text": [
      "2\n",
      "3\n",
      "5\n",
      "7\n",
      "11\n",
      "13\n",
      "17\n",
      "19\n",
      "23\n",
      "29\n",
      "31\n",
      "37\n",
      "41\n",
      "43\n",
      "47\n",
      "53\n",
      "59\n",
      "61\n",
      "67\n",
      "71\n"
     ]
    }
   ],
   "source": [
    "\n",
    "def generate_primes():\n",
    "    primes = []\n",
    "    for num in range(2,1000):\n",
    "        if all(num % prime != 0 for prime in primes):\n",
    "            primes.append(num)\n",
    "            yield num\n",
    "\n",
    "prime_gen = generate_primes()\n",
    "\n",
    "for i in range(20):             # Iterating through the first 20 elements\n",
    "    print(next(prime_gen))   \n"
   ]
  }
 ],
 "metadata": {
  "kernelspec": {
   "display_name": "Python 3 (ipykernel)",
   "language": "python",
   "name": "python3"
  },
  "language_info": {
   "codemirror_mode": {
    "name": "ipython",
    "version": 3
   },
   "file_extension": ".py",
   "mimetype": "text/x-python",
   "name": "python",
   "nbconvert_exporter": "python",
   "pygments_lexer": "ipython3",
   "version": "3.9.13"
  }
 },
 "nbformat": 4,
 "nbformat_minor": 5
}
