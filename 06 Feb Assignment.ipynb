{
 "cells": [
  {
   "cell_type": "markdown",
   "id": "e3281d4d-881b-408d-b37e-858f5d9545a8",
   "metadata": {},
   "source": [
    "###Q1. Create a function which will take a list as an argument and return the product of all the numbers\n",
    "after creating a flat list.\n",
    "Use the below-given list as an argument for your function.\n",
    "list1 = [1,2,3,4, [44,55,66, True], False, (34,56,78,89,34), {1,2,3,3,2,1}, {1:34, \"key2\": [55, 67, 78, 89], 4: (45,\n",
    "22, 61, 34)}, [56, 'data science'], 'Machine Learning']\n",
    "Note: you must extract numeric keys and values of the dictionary also."
   ]
  },
  {
   "cell_type": "code",
   "execution_count": 64,
   "id": "6a6612ac-3a79-452a-a58b-0c51c3a8dfdf",
   "metadata": {},
   "outputs": [
    {
     "name": "stdout",
     "output_type": "stream",
     "text": [
      "27\n",
      "result is 4134711838987085478833841242112000\n"
     ]
    }
   ],
   "source": [
    "list1 = [1,2,3,4, [44,55,66, True], False, (34,56,78,89,34), {1,2,3,3,2,1}, {1:34, \"key2\": [55, 67, 78, 89], 4: (45, 22, 61, 34)}, [56, 'data science'], 'Machine Learning']\n",
    "\n",
    "def flatten_dict(d):\n",
    "    flat_list = []\n",
    "    for key, value in d.items():\n",
    "        if type(key) == int or type(key) == float :\n",
    "            flat_list.append(key)\n",
    "        if isinstance(value, dict) :\n",
    "            flat_list.extend(flatten_dict(value))\n",
    "        elif type(value) == list :\n",
    "            for j in value :\n",
    "                if type(j) == int or type(j) == float :\n",
    "                    flat_list.append(j)\n",
    "        elif type(value) == tuple :\n",
    "            for j in value :\n",
    "                if type(j) == int or type(j) == float :\n",
    "                    flat_list.append(j)\n",
    "        else:\n",
    "            ##flat_list.append(key)\n",
    "            flat_list.append(value)\n",
    "    return flat_list\n",
    "\n",
    "\n",
    "def product_num(list1):\n",
    "    i=0\n",
    "    k=0\n",
    "    result = 1\n",
    "    list2 = []\n",
    "    while i<len(list1) :\n",
    "        if type(list1[i]) == int or type(list1[i]) == float:\n",
    "            list2.append(list1[i])  \n",
    "        \n",
    "        elif type(list1[i]) == list :\n",
    "            for j in list1[i] :\n",
    "                if type(j) == int or type(j) == float :\n",
    "                    list2.append(j)\n",
    "        \n",
    "        elif type(list1[i]) == tuple :\n",
    "            for j in list1[i] :\n",
    "                if type(j) == int or type(j) == float :\n",
    "                    list2.append(j)\n",
    "        \n",
    "        elif type(list1[i]) == set :\n",
    "            for j in list1[i] :\n",
    "                if type(j) == int or type(j) == float :\n",
    "                    list2.append(j)\n",
    "        \n",
    "        elif type(list1[i]) == dict :\n",
    "            list3 = flatten_dict(list1[i])\n",
    "            for j in list3 :\n",
    "                if type(j) == int or type(j) == float :\n",
    "                    list2.append(j)\n",
    "           \n",
    "        i += 1\n",
    "    \n",
    "    print (len(list2))\n",
    "    while k<len(list2) :   \n",
    "        ##print(list2[k])\n",
    "        result *= list2[k]\n",
    "        k +=1\n",
    "    \n",
    "    print(\"result is \" + str(result))\n",
    "                \n",
    "product_num(list1)"
   ]
  },
  {
   "cell_type": "markdown",
   "id": "d711cedf-8da3-4048-81c6-7e42c9ca342c",
   "metadata": {},
   "source": [
    "###Q2. Write a python program for encrypting a message sent to you by your friend. The logic of encryption\n",
    "should be such that, for a the output should be z. For b, the output should be y. For c, the output should\n",
    "be x respectively. Also, the whitespace should be replaced with a dollar sign. Keep the punctuation\n",
    "marks unchanged.\n",
    "Input Sentence: I want to become a Data Scientist.\n",
    "Encrypt the above input sentence using the program you just created.\n",
    "Note: Convert the given input sentence into lowercase before encrypting. The final output should be\n",
    "lowercase."
   ]
  },
  {
   "cell_type": "code",
   "execution_count": 110,
   "id": "c5e7e617-78d0-44c8-a966-ec91989b2ce1",
   "metadata": {},
   "outputs": [
    {
     "name": "stdout",
     "output_type": "stream",
     "text": [
      "r@$dzmg$!$gl$yvxlnv$z$wzgz$hxrvmgrhg\n"
     ]
    }
   ],
   "source": [
    "input_sentence = \"I@ want ! to become a Data Scientist\"\n",
    "encryption_key=\"abcdefghijklmnopqrstuvwxyz\"\n",
    "\n",
    "\n",
    "def my_encryption(my_input):\n",
    "   \n",
    "    output_sentence = \"\"\n",
    "    for i in input_sentence :\n",
    "        if i.lower() == \" \" :\n",
    "            output_sentence = output_sentence+\"$\"\n",
    "        elif i.lower().isalpha() == True :\n",
    "            location = encryption_key.find(i.lower())\n",
    "            output_sentence = output_sentence + encryption_key[25-(location)]\n",
    "        else :\n",
    "            output_sentence = output_sentence + i\n",
    "               \n",
    "    return output_sentence\n",
    "\n",
    "l=my_encryption(input_sentence)\n",
    "print(l)"
   ]
  },
  {
   "cell_type": "code",
   "execution_count": null,
   "id": "5353e417-036f-4038-aa63-142621f88909",
   "metadata": {},
   "outputs": [],
   "source": []
  }
 ],
 "metadata": {
  "kernelspec": {
   "display_name": "Python 3 (ipykernel)",
   "language": "python",
   "name": "python3"
  },
  "language_info": {
   "codemirror_mode": {
    "name": "ipython",
    "version": 3
   },
   "file_extension": ".py",
   "mimetype": "text/x-python",
   "name": "python",
   "nbconvert_exporter": "python",
   "pygments_lexer": "ipython3",
   "version": "3.9.13"
  }
 },
 "nbformat": 4,
 "nbformat_minor": 5
}
