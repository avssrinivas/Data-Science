{
 "cells": [
  {
   "cell_type": "code",
   "execution_count": 6,
   "id": "3cd726bb-e5cf-4c0a-b135-17febf344398",
   "metadata": {},
   "outputs": [],
   "source": [
    "a=10"
   ]
  },
  {
   "cell_type": "code",
   "execution_count": 7,
   "id": "62c75657-f92a-4a02-b24c-cd30ab37b035",
   "metadata": {},
   "outputs": [
    {
     "data": {
      "text/plain": [
       "10"
      ]
     },
     "execution_count": 7,
     "metadata": {},
     "output_type": "execute_result"
    }
   ],
   "source": [
    "a"
   ]
  },
  {
   "cell_type": "code",
   "execution_count": 8,
   "id": "59fd56c7-3ce6-4f78-b9c0-771a39f61ac1",
   "metadata": {},
   "outputs": [
    {
     "name": "stdout",
     "output_type": "stream",
     "text": [
      "10\n"
     ]
    }
   ],
   "source": [
    "print(a)"
   ]
  },
  {
   "cell_type": "raw",
   "id": "1e30654e-f11a-4c96-8d8a-ea960f11430d",
   "metadata": {},
   "source": [
    "a"
   ]
  },
  {
   "cell_type": "code",
   "execution_count": 9,
   "id": "0b20e914-012d-4648-bac1-2d2d3a1fbe85",
   "metadata": {},
   "outputs": [
    {
     "ename": "NameError",
     "evalue": "name 'whatisraw' is not defined",
     "output_type": "error",
     "traceback": [
      "\u001b[0;31m---------------------------------------------------------------------------\u001b[0m",
      "\u001b[0;31mNameError\u001b[0m                                 Traceback (most recent call last)",
      "Cell \u001b[0;32mIn[9], line 1\u001b[0m\n\u001b[0;32m----> 1\u001b[0m \u001b[43mwhatisraw\u001b[49m\n",
      "\u001b[0;31mNameError\u001b[0m: name 'whatisraw' is not defined"
     ]
    }
   ],
   "source": [
    "whatisraw"
   ]
  },
  {
   "cell_type": "code",
   "execution_count": 10,
   "id": "9678fe70-3479-4831-ac5d-454e5da37404",
   "metadata": {},
   "outputs": [
    {
     "data": {
      "text/plain": [
       "2"
      ]
     },
     "execution_count": 10,
     "metadata": {},
     "output_type": "execute_result"
    }
   ],
   "source": [
    "1+1"
   ]
  },
  {
   "cell_type": "code",
   "execution_count": 14,
   "id": "5ff1bc63-4eea-44f0-8dcc-343e9dd80710",
   "metadata": {},
   "outputs": [
    {
     "name": "stdout",
     "output_type": "stream",
     "text": [
      "hello world\n"
     ]
    }
   ],
   "source": [
    "print(\"hello world\")"
   ]
  },
  {
   "cell_type": "code",
   "execution_count": 5,
   "id": "b98f6ec3-96f8-4f9a-99ea-b14504f8c7d9",
   "metadata": {},
   "outputs": [
    {
     "name": "stdin",
     "output_type": "stream",
     "text": [
      "Enter product price: 2000\n"
     ]
    },
    {
     "name": "stdout",
     "output_type": "stream",
     "text": [
      "The price of the product is 1400.0\n"
     ]
    }
   ],
   "source": [
    "## mall\n",
    "product_price= int(input(\"Enter product price:\"))\n",
    "if product_price >3000:\n",
    "    print(f\"The price of the product is {product_price*0.8}\")\n",
    "else:\n",
    "    print(\"The price of the product is {}\".format(product_price*0.7))"
   ]
  },
  {
   "cell_type": "code",
   "execution_count": 13,
   "id": "11d82685-7305-4825-b2e4-0ba3b5763efd",
   "metadata": {},
   "outputs": [
    {
     "name": "stdin",
     "output_type": "stream",
     "text": [
      "Enter product price: 1909\n"
     ]
    },
    {
     "name": "stdout",
     "output_type": "stream",
     "text": [
      "The price of the product is 1145.3999999999999\n"
     ]
    }
   ],
   "source": [
    "## mall\n",
    "product_price= int(input(\"Enter product price:\"))\n",
    "if product_price >3000:\n",
    "    print(f\"The price of the product is {product_price*0.8}\")\n",
    "elif product_price >=2000 and product_price <=3000:\n",
    "    print(\"The price of the product is {}\".format(product_price*0.7))\n",
    "elif product_price >=1000 and product_price <2000:\n",
    "    print(\"The price of the product is {}\".format(product_price*0.6))\n",
    "else:\n",
    "    print(\"No discount\")"
   ]
  },
  {
   "cell_type": "markdown",
   "id": "cc544bb7-8f82-41f1-82cb-16da7eb04434",
   "metadata": {},
   "source": [
    "### While else"
   ]
  },
  {
   "cell_type": "markdown",
   "id": "3610edbe-5cb1-4d5e-8a24-267ea5dfea14",
   "metadata": {},
   "source": [
    "### For Loop"
   ]
  },
  {
   "cell_type": "code",
   "execution_count": 6,
   "id": "bcf6e643-a9c4-4667-a33f-ef44c589fc3a",
   "metadata": {},
   "outputs": [
    {
     "data": {
      "text/plain": [
       "'Srini'"
      ]
     },
     "execution_count": 6,
     "metadata": {},
     "output_type": "execute_result"
    }
   ],
   "source": [
    "lst=[\"Srini\",1,2,3,4,\"Apple\", \"banana\"]\n",
    "lst[0]"
   ]
  },
  {
   "cell_type": "code",
   "execution_count": 8,
   "id": "fdc2a95a-6a3d-4f05-abeb-2eac5a67e918",
   "metadata": {},
   "outputs": [
    {
     "data": {
      "text/plain": [
       "'Apple'"
      ]
     },
     "execution_count": 8,
     "metadata": {},
     "output_type": "execute_result"
    }
   ],
   "source": [
    "lst[5]\n"
   ]
  },
  {
   "cell_type": "code",
   "execution_count": 14,
   "id": "8acacb1f-004a-4d35-89ff-d7b1437f7067",
   "metadata": {},
   "outputs": [
    {
     "name": "stdout",
     "output_type": "stream",
     "text": [
      "Srini\n",
      "1\n",
      "2\n",
      "3\n",
      "4\n",
      "Apple\n",
      "banana\n"
     ]
    }
   ],
   "source": [
    "lst=[\"Srini\",1,2,3,4,\"Apple\", \"banana\"]\n",
    "for x in lst:\n",
    "    print(x)"
   ]
  },
  {
   "cell_type": "code",
   "execution_count": 16,
   "id": "f29b314d-ed57-4dd1-bd85-d77ede6f8f67",
   "metadata": {},
   "outputs": [
    {
     "name": "stdout",
     "output_type": "stream",
     "text": [
      "m\n",
      "a\n",
      "n\n",
      "g\n",
      "o\n"
     ]
    }
   ],
   "source": [
    "fruit = 'mango'\n",
    "for x in fruit:\n",
    "    print(x)"
   ]
  },
  {
   "cell_type": "markdown",
   "id": "df13cca7-326b-409e-80db-fdfdbbaf3851",
   "metadata": {},
   "source": [
    "### Nest"
   ]
  },
  {
   "cell_type": "code",
   "execution_count": 17,
   "id": "dd18b23e-ba3e-4185-bc29-f26f287857d6",
   "metadata": {},
   "outputs": [
    {
     "name": "stdout",
     "output_type": "stream",
     "text": [
      "1\n",
      "2\n",
      "3\n",
      "4\n",
      "5\n"
     ]
    }
   ],
   "source": [
    "for i in range(1,6):\n",
    "    print(i)"
   ]
  },
  {
   "cell_type": "code",
   "execution_count": 20,
   "id": "8afda917-80ae-48ce-bc97-dbd9cd2e39e7",
   "metadata": {},
   "outputs": [
    {
     "name": "stdout",
     "output_type": "stream",
     "text": [
      "1\n",
      "3\n",
      "5\n",
      "7\n",
      "9\n"
     ]
    }
   ],
   "source": [
    "for i in range(1,10,2):\n",
    "    print(i)"
   ]
  },
  {
   "cell_type": "code",
   "execution_count": 23,
   "id": "fba4bef4-aaa7-44b1-ad08-32c5abf84cff",
   "metadata": {},
   "outputs": [
    {
     "name": "stdout",
     "output_type": "stream",
     "text": [
      "*\n",
      "**\n",
      "***\n",
      "****\n",
      "*****\n",
      "******\n",
      "*******\n"
     ]
    }
   ],
   "source": [
    "## Nested Loops\n",
    "n=7\n",
    "for i in range(0,n):\n",
    "    for j in range (0,i+1):\n",
    "        print(\"*\",end=\"\")\n",
    "    print(\"\\r\")"
   ]
  },
  {
   "cell_type": "code",
   "execution_count": 27,
   "id": "e1a46a4f-3fcc-45dc-9bf6-10f403e2b0ae",
   "metadata": {},
   "outputs": [
    {
     "name": "stdout",
     "output_type": "stream",
     "text": [
      "*\n",
      "**\n",
      "***\n",
      "****\n",
      "*****\n",
      "******\n",
      "*******\n"
     ]
    }
   ],
   "source": [
    "## Nested Loops\n",
    "n=7\n",
    "for i in range(0,n):\n",
    "    for j in range (0,i+1):\n",
    "        print(\"*\",end=\"\")\n",
    "    print(\"\\r\")"
   ]
  },
  {
   "cell_type": "markdown",
   "id": "9bc304cb-c045-4fd3-9d4c-da5233b3ec3a",
   "metadata": {},
   "source": [
    "### loop controls\n",
    "### break and continue"
   ]
  },
  {
   "cell_type": "markdown",
   "id": "2cfe18aa-b424-4543-93e5-3bf96e6517fb",
   "metadata": {},
   "source": [
    "### Pass and continue"
   ]
  },
  {
   "cell_type": "code",
   "execution_count": null,
   "id": "ece62317-6db0-4c98-acc5-d7cc9f58a3b4",
   "metadata": {},
   "outputs": [],
   "source": []
  }
 ],
 "metadata": {
  "kernelspec": {
   "display_name": "Python 3 (ipykernel)",
   "language": "python",
   "name": "python3"
  },
  "language_info": {
   "codemirror_mode": {
    "name": "ipython",
    "version": 3
   },
   "file_extension": ".py",
   "mimetype": "text/x-python",
   "name": "python",
   "nbconvert_exporter": "python",
   "pygments_lexer": "ipython3",
   "version": "3.10.8"
  }
 },
 "nbformat": 4,
 "nbformat_minor": 5
}
