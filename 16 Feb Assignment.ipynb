{
 "cells": [
  {
   "cell_type": "markdown",
   "id": "193d621f-c7b4-4c8c-8b23-7158a1e705ef",
   "metadata": {},
   "source": [
    "Q1. What is a database? Differentiate between SQL and NoSQL databases."
   ]
  },
  {
   "cell_type": "markdown",
   "id": "983fcc92-0feb-4432-a1c1-432cbb13fc73",
   "metadata": {},
   "source": [
    "A database is a collection of data that is organized in a specific way to make it easy to manage, access, and update. Databases are used in many applications and industries, including web development, finance, healthcare, and more.\n",
    "\n",
    "There are two main types of databases: SQL (relational) and NoSQL (non-relational). Here are the key differences between these two types:\n",
    "\n",
    "SQL (Relational) Databases:\n",
    "\n",
    "Data Model: SQL databases store data in tables with predefined columns and data types. The relationship between tables is defined using foreign keys.\n",
    "\n",
    "Schema: SQL databases have a fixed schema, which defines the structure of the database and the relationships between tables. Any changes to the schema require modifying the database schema.\n",
    "\n",
    "Queries: SQL databases use structured query language (SQL) to retrieve and manipulate data. SQL queries are usually written in a declarative style and are optimized for complex queries.\n",
    "\n",
    "ACID Compliance: SQL databases are typically ACID-compliant, meaning they ensure Atomicity, Consistency, Isolation, and Durability of transactions.\n",
    "\n",
    "NoSQL (Non-Relational) Databases:\n",
    "\n",
    "Data Model: NoSQL databases store data in various formats, including key-value pairs, documents, graphs, and column-family stores.\n",
    "\n",
    "Schema: NoSQL databases are schema-less, meaning the structure of the database can be changed without modifying the database schema.\n",
    "\n",
    "Queries: NoSQL databases use different query languages or APIs for retrieving and manipulating data, depending on the type of database. These queries can be more flexible than SQL queries.\n",
    "\n",
    "ACID Compliance: NoSQL databases are usually not fully ACID-compliant. Instead, they often prioritize availability and partition tolerance over consistency (the CAP theorem).\n",
    "\n",
    "In summary, SQL databases use a fixed schema, structured query language (SQL), and are typically ACID-compliant, while NoSQL databases are schema-less, use various query languages or APIs, and prioritize availability and partition tolerance over consistency. The choice between SQL and NoSQL depends on the specific needs of the application and the data being stored."
   ]
  },
  {
   "cell_type": "markdown",
   "id": "f63d7a93-bed6-4b95-902b-432380c94a78",
   "metadata": {},
   "source": [
    "Q2. What is DDL? Explain why CREATE, DROP, ALTER, and TRUNCATE are used with an example."
   ]
  },
  {
   "cell_type": "markdown",
   "id": "69c0aadc-6b36-4456-8ae0-a478270beda5",
   "metadata": {},
   "source": [
    "DDL stands for Data Definition Language, and it is a set of SQL commands used to define and manage the structure of database objects, such as tables, views, indexes, and constraints.\n",
    "\n",
    "The following are some common DDL commands and their purposes:\n",
    "\n",
    "CREATE: Used to create a new database object, such as a table or index. For example, to create a table named \"users\" with columns for id, name, and email, we can use the following SQL statement:\n",
    "\n",
    "CREATE TABLE users (\n",
    "  id INT PRIMARY KEY,\n",
    "  name VARCHAR(50),\n",
    "  email VARCHAR(50)\n",
    ");\n",
    "\n",
    "DROP: Used to delete an existing database object. For example, to delete the \"users\" table we created above, we can use the following SQL statement:\n",
    "\n",
    "DROP TABLE users;\n",
    "\n",
    "ALTER: Used to modify the structure of an existing database object. For example, to add a new column \"phone\" to the \"users\" table, we can use the following SQL statement:\n",
    "\n",
    "ALTER TABLE users ADD COLUMN phone VARCHAR(20);\n",
    "\n",
    "TRUNCATE: Used to delete all the data from an existing table, while keeping the table structure intact. For example, to delete all the data from the \"users\" table we created above, we can use the following SQL statement:\n",
    "\n",
    "TRUNCATE TABLE users;\n"
   ]
  },
  {
   "cell_type": "markdown",
   "id": "21dfad41-e1ec-421c-80e0-8ec0455aa34b",
   "metadata": {},
   "source": [
    "Q3. What is DML? Explain INSERT, UPDATE, and DELETE with an example."
   ]
  },
  {
   "cell_type": "markdown",
   "id": "036680ea-5be1-4e6f-84f5-a5f11f551bd9",
   "metadata": {},
   "source": [
    "DML stands for Data Manipulation Language, and it is a set of SQL commands used to manipulate data stored in database objects, such as tables. The following are some common DML commands and their purposes:\n",
    "\n",
    "INSERT: Used to insert new rows into a table. For example, to insert a new user with id=1, name=\"John\", and email=\"john@example.com\" into the \"users\" table, we can use the following SQL statement:\n",
    "\n",
    "INSERT INTO users (id, name, email) VALUES (1, 'John', 'john@example.com');\n",
    "\n",
    "UPDATE: Used to modify the data in one or more existing rows in a table. For example, to update the email address of the user with id=1 in the \"users\" table to \"john.doe@example.com\", we can use the following SQL statement:\n",
    "\n",
    "UPDATE users SET email='john.doe@example.com' WHERE id=1;\n",
    "\n",
    "DELETE: Used to delete one or more existing rows from a table. For example, to delete the user with id=1 from the \"users\" table, we can use the following SQL statement:\n",
    "\n",
    "DELETE FROM users WHERE id=1;\n"
   ]
  },
  {
   "cell_type": "markdown",
   "id": "1d6eeaee-6489-42b6-824b-df719fc12116",
   "metadata": {},
   "source": [
    "Q4. What is DQL? Explain SELECT with an example."
   ]
  },
  {
   "cell_type": "markdown",
   "id": "3241c898-cf11-40ea-b44e-880a8e0241cd",
   "metadata": {},
   "source": [
    "rom database objects, such as tables. The most commonly used DQL command is SELECT, which is used to retrieve data from one or more tables based on certain conditions.\n",
    "\n",
    "The basic syntax of the SELECT statement is as follows:\n",
    "\n",
    "SELECT column1, column2, ... FROM table_name WHERE condition;\n",
    "\n",
    "Here, \"column1, column2, ...\" refers to the names of the columns that we want to retrieve data from, and \"table_name\" refers to the name of the table from which we want to retrieve the data. The \"WHERE\" clause is optional, but it is used to specify one or more conditions that the retrieved data must satisfy."
   ]
  },
  {
   "cell_type": "markdown",
   "id": "3c3c1212-4bc0-4f83-b410-ed376efe2a61",
   "metadata": {},
   "source": [
    "Q5. Explain Primary Key and Foreign Key."
   ]
  },
  {
   "cell_type": "markdown",
   "id": "423af173-42b2-4d31-80a2-83f882281ddc",
   "metadata": {},
   "source": [
    "In a relational database, a primary key is a column or a set of columns that uniquely identifies each row in a table. It is used to ensure data integrity and consistency in the database. A foreign key, on the other hand, is a column or a set of columns in one table that refers to the primary key of another table. It is used to establish a relationship between two tables and enforce referential integrity between them.\n",
    "\n",
    "Here are some key differences between primary keys and foreign keys:\n",
    "\n",
    "Uniqueness: A primary key is unique for each row in a table, while a foreign key is not necessarily unique in its own table.\n",
    "\n",
    "Relationship: A primary key establishes a relationship between each row in a table and itself, while a foreign key establishes a relationship between a row in one table and a row in another table.\n",
    "\n",
    "Purpose: The purpose of a primary key is to uniquely identify each row in a table, while the purpose of a foreign key is to establish a relationship between two tables and enforce referential integrity."
   ]
  },
  {
   "cell_type": "markdown",
   "id": "a788aef8-f113-4dd8-afc7-40f16c648e62",
   "metadata": {},
   "source": [
    "Q6. Write a python code to connect MySQL to python. Explain the cursor() and execute() method."
   ]
  },
  {
   "cell_type": "markdown",
   "id": "845c3857-0ce7-4ea3-b8f9-a5ddf4ee0b0e",
   "metadata": {},
   "source": [
    "To connect MySQL to Python, we need to use a connector library. One of the most popular ones is the mysql-connector-python library, which can be installed using the following command:\n",
    "\n",
    "pip install mysql-connector-python\n",
    "\n",
    "Once the library is installed, we can use the following code to connect to a MySQL database and execute SQL queries:"
   ]
  },
  {
   "cell_type": "code",
   "execution_count": 3,
   "id": "5a00bd2c-5cd8-4a55-8a15-e0cef065843d",
   "metadata": {},
   "outputs": [
    {
     "name": "stdout",
     "output_type": "stream",
     "text": [
      "Collecting mysql-connector-python\n",
      "  Downloading mysql_connector_python-8.0.32-cp39-cp39-win_amd64.whl (7.9 MB)\n",
      "     ---------------------------------------- 7.9/7.9 MB 4.9 MB/s eta 0:00:00\n",
      "Collecting protobuf<=3.20.3,>=3.11.0\n",
      "  Downloading protobuf-3.20.3-cp39-cp39-win_amd64.whl (904 kB)\n",
      "     -------------------------------------- 904.2/904.2 kB 3.6 MB/s eta 0:00:00\n",
      "Installing collected packages: protobuf, mysql-connector-python\n",
      "Successfully installed mysql-connector-python-8.0.32 protobuf-3.20.3\n",
      "Note: you may need to restart the kernel to use updated packages.\n"
     ]
    }
   ],
   "source": [
    "pip install mysql-connector-python"
   ]
  },
  {
   "cell_type": "code",
   "execution_count": 4,
   "id": "509e82d0-ec88-4937-8545-23afccee65d7",
   "metadata": {},
   "outputs": [
    {
     "ename": "DatabaseError",
     "evalue": "2003 (HY000): Can't connect to MySQL server on 'localhost:3306' (10061)",
     "output_type": "error",
     "traceback": [
      "\u001b[1;31m---------------------------------------------------------------------------\u001b[0m",
      "\u001b[1;31mMySQLInterfaceError\u001b[0m                       Traceback (most recent call last)",
      "\u001b[1;32m~\\Anaconda3\\lib\\site-packages\\mysql\\connector\\connection_cext.py\u001b[0m in \u001b[0;36m_open_connection\u001b[1;34m(self)\u001b[0m\n\u001b[0;32m    287\u001b[0m         \u001b[1;32mtry\u001b[0m\u001b[1;33m:\u001b[0m\u001b[1;33m\u001b[0m\u001b[1;33m\u001b[0m\u001b[0m\n\u001b[1;32m--> 288\u001b[1;33m             \u001b[0mself\u001b[0m\u001b[1;33m.\u001b[0m\u001b[0m_cmysql\u001b[0m\u001b[1;33m.\u001b[0m\u001b[0mconnect\u001b[0m\u001b[1;33m(\u001b[0m\u001b[1;33m**\u001b[0m\u001b[0mcnx_kwargs\u001b[0m\u001b[1;33m)\u001b[0m\u001b[1;33m\u001b[0m\u001b[1;33m\u001b[0m\u001b[0m\n\u001b[0m\u001b[0;32m    289\u001b[0m             \u001b[0mself\u001b[0m\u001b[1;33m.\u001b[0m\u001b[0m_cmysql\u001b[0m\u001b[1;33m.\u001b[0m\u001b[0mconverter_str_fallback\u001b[0m \u001b[1;33m=\u001b[0m \u001b[0mself\u001b[0m\u001b[1;33m.\u001b[0m\u001b[0m_converter_str_fallback\u001b[0m\u001b[1;33m\u001b[0m\u001b[1;33m\u001b[0m\u001b[0m\n",
      "\u001b[1;31mMySQLInterfaceError\u001b[0m: Can't connect to MySQL server on 'localhost:3306' (10061)",
      "\nThe above exception was the direct cause of the following exception:\n",
      "\u001b[1;31mDatabaseError\u001b[0m                             Traceback (most recent call last)",
      "\u001b[1;32m~\\AppData\\Local\\Temp\\ipykernel_5948\\1616742820.py\u001b[0m in \u001b[0;36m<module>\u001b[1;34m\u001b[0m\n\u001b[0;32m      2\u001b[0m \u001b[1;33m\u001b[0m\u001b[0m\n\u001b[0;32m      3\u001b[0m \u001b[1;31m# establish a connection to the MySQL server\u001b[0m\u001b[1;33m\u001b[0m\u001b[1;33m\u001b[0m\u001b[0m\n\u001b[1;32m----> 4\u001b[1;33m mydb = mysql.connector.connect(\n\u001b[0m\u001b[0;32m      5\u001b[0m   \u001b[0mhost\u001b[0m\u001b[1;33m=\u001b[0m\u001b[1;34m\"localhost\"\u001b[0m\u001b[1;33m,\u001b[0m\u001b[1;33m\u001b[0m\u001b[1;33m\u001b[0m\u001b[0m\n\u001b[0;32m      6\u001b[0m   \u001b[0muser\u001b[0m\u001b[1;33m=\u001b[0m\u001b[1;34m\"yourusername\"\u001b[0m\u001b[1;33m,\u001b[0m\u001b[1;33m\u001b[0m\u001b[1;33m\u001b[0m\u001b[0m\n",
      "\u001b[1;32m~\\Anaconda3\\lib\\site-packages\\mysql\\connector\\pooling.py\u001b[0m in \u001b[0;36mconnect\u001b[1;34m(*args, **kwargs)\u001b[0m\n\u001b[0;32m    291\u001b[0m \u001b[1;33m\u001b[0m\u001b[0m\n\u001b[0;32m    292\u001b[0m     \u001b[1;32mif\u001b[0m \u001b[0mCMySQLConnection\u001b[0m \u001b[1;32mand\u001b[0m \u001b[1;32mnot\u001b[0m \u001b[0muse_pure\u001b[0m\u001b[1;33m:\u001b[0m\u001b[1;33m\u001b[0m\u001b[1;33m\u001b[0m\u001b[0m\n\u001b[1;32m--> 293\u001b[1;33m         \u001b[1;32mreturn\u001b[0m \u001b[0mCMySQLConnection\u001b[0m\u001b[1;33m(\u001b[0m\u001b[1;33m*\u001b[0m\u001b[0margs\u001b[0m\u001b[1;33m,\u001b[0m \u001b[1;33m**\u001b[0m\u001b[0mkwargs\u001b[0m\u001b[1;33m)\u001b[0m\u001b[1;33m\u001b[0m\u001b[1;33m\u001b[0m\u001b[0m\n\u001b[0m\u001b[0;32m    294\u001b[0m     \u001b[1;32mreturn\u001b[0m \u001b[0mMySQLConnection\u001b[0m\u001b[1;33m(\u001b[0m\u001b[1;33m*\u001b[0m\u001b[0margs\u001b[0m\u001b[1;33m,\u001b[0m \u001b[1;33m**\u001b[0m\u001b[0mkwargs\u001b[0m\u001b[1;33m)\u001b[0m\u001b[1;33m\u001b[0m\u001b[1;33m\u001b[0m\u001b[0m\n\u001b[0;32m    295\u001b[0m \u001b[1;33m\u001b[0m\u001b[0m\n",
      "\u001b[1;32m~\\Anaconda3\\lib\\site-packages\\mysql\\connector\\connection_cext.py\u001b[0m in \u001b[0;36m__init__\u001b[1;34m(self, **kwargs)\u001b[0m\n\u001b[0;32m    116\u001b[0m \u001b[1;33m\u001b[0m\u001b[0m\n\u001b[0;32m    117\u001b[0m         \u001b[1;32mif\u001b[0m \u001b[0mkwargs\u001b[0m\u001b[1;33m:\u001b[0m\u001b[1;33m\u001b[0m\u001b[1;33m\u001b[0m\u001b[0m\n\u001b[1;32m--> 118\u001b[1;33m             \u001b[0mself\u001b[0m\u001b[1;33m.\u001b[0m\u001b[0mconnect\u001b[0m\u001b[1;33m(\u001b[0m\u001b[1;33m**\u001b[0m\u001b[0mkwargs\u001b[0m\u001b[1;33m)\u001b[0m\u001b[1;33m\u001b[0m\u001b[1;33m\u001b[0m\u001b[0m\n\u001b[0m\u001b[0;32m    119\u001b[0m \u001b[1;33m\u001b[0m\u001b[0m\n\u001b[0;32m    120\u001b[0m     \u001b[1;32mdef\u001b[0m \u001b[0m_add_default_conn_attrs\u001b[0m\u001b[1;33m(\u001b[0m\u001b[0mself\u001b[0m\u001b[1;33m)\u001b[0m \u001b[1;33m->\u001b[0m \u001b[1;32mNone\u001b[0m\u001b[1;33m:\u001b[0m\u001b[1;33m\u001b[0m\u001b[1;33m\u001b[0m\u001b[0m\n",
      "\u001b[1;32m~\\Anaconda3\\lib\\site-packages\\mysql\\connector\\abstracts.py\u001b[0m in \u001b[0;36mconnect\u001b[1;34m(self, **kwargs)\u001b[0m\n\u001b[0;32m   1176\u001b[0m \u001b[1;33m\u001b[0m\u001b[0m\n\u001b[0;32m   1177\u001b[0m         \u001b[0mself\u001b[0m\u001b[1;33m.\u001b[0m\u001b[0mdisconnect\u001b[0m\u001b[1;33m(\u001b[0m\u001b[1;33m)\u001b[0m\u001b[1;33m\u001b[0m\u001b[1;33m\u001b[0m\u001b[0m\n\u001b[1;32m-> 1178\u001b[1;33m         \u001b[0mself\u001b[0m\u001b[1;33m.\u001b[0m\u001b[0m_open_connection\u001b[0m\u001b[1;33m(\u001b[0m\u001b[1;33m)\u001b[0m\u001b[1;33m\u001b[0m\u001b[1;33m\u001b[0m\u001b[0m\n\u001b[0m\u001b[0;32m   1179\u001b[0m         \u001b[1;31m# Server does not allow to run any other statement different from ALTER\u001b[0m\u001b[1;33m\u001b[0m\u001b[1;33m\u001b[0m\u001b[0m\n\u001b[0;32m   1180\u001b[0m         \u001b[1;31m# when user's password has been expired.\u001b[0m\u001b[1;33m\u001b[0m\u001b[1;33m\u001b[0m\u001b[0m\n",
      "\u001b[1;32m~\\Anaconda3\\lib\\site-packages\\mysql\\connector\\connection_cext.py\u001b[0m in \u001b[0;36m_open_connection\u001b[1;34m(self)\u001b[0m\n\u001b[0;32m    291\u001b[0m                 \u001b[0mself\u001b[0m\u001b[1;33m.\u001b[0m\u001b[0mconverter\u001b[0m\u001b[1;33m.\u001b[0m\u001b[0mstr_fallback\u001b[0m \u001b[1;33m=\u001b[0m \u001b[0mself\u001b[0m\u001b[1;33m.\u001b[0m\u001b[0m_converter_str_fallback\u001b[0m\u001b[1;33m\u001b[0m\u001b[1;33m\u001b[0m\u001b[0m\n\u001b[0;32m    292\u001b[0m         \u001b[1;32mexcept\u001b[0m \u001b[0mMySQLInterfaceError\u001b[0m \u001b[1;32mas\u001b[0m \u001b[0merr\u001b[0m\u001b[1;33m:\u001b[0m\u001b[1;33m\u001b[0m\u001b[1;33m\u001b[0m\u001b[0m\n\u001b[1;32m--> 293\u001b[1;33m             raise get_mysql_exception(\n\u001b[0m\u001b[0;32m    294\u001b[0m                 \u001b[0mmsg\u001b[0m\u001b[1;33m=\u001b[0m\u001b[0merr\u001b[0m\u001b[1;33m.\u001b[0m\u001b[0mmsg\u001b[0m\u001b[1;33m,\u001b[0m \u001b[0merrno\u001b[0m\u001b[1;33m=\u001b[0m\u001b[0merr\u001b[0m\u001b[1;33m.\u001b[0m\u001b[0merrno\u001b[0m\u001b[1;33m,\u001b[0m \u001b[0msqlstate\u001b[0m\u001b[1;33m=\u001b[0m\u001b[0merr\u001b[0m\u001b[1;33m.\u001b[0m\u001b[0msqlstate\u001b[0m\u001b[1;33m\u001b[0m\u001b[1;33m\u001b[0m\u001b[0m\n\u001b[0;32m    295\u001b[0m             ) from err\n",
      "\u001b[1;31mDatabaseError\u001b[0m: 2003 (HY000): Can't connect to MySQL server on 'localhost:3306' (10061)"
     ]
    }
   ],
   "source": [
    "import mysql.connector\n",
    "\n",
    "# establish a connection to the MySQL server\n",
    "mydb = mysql.connector.connect(\n",
    "  host=\"localhost\",\n",
    "  user=\"yourusername\",\n",
    "  password=\"yourpassword\",\n",
    "  database=\"yourdatabase\"\n",
    ")\n",
    "\n",
    "# create a cursor object to execute SQL queries\n",
    "mycursor = mydb.cursor()\n",
    "\n",
    "# execute an SQL query\n",
    "mycursor.execute(\"SELECT * FROM customers\")\n",
    "\n",
    "# fetch the result of the query\n",
    "result = mycursor.fetchall()\n",
    "\n",
    "# print the result\n",
    "for row in result:\n",
    "  print(row)"
   ]
  },
  {
   "cell_type": "markdown",
   "id": "6f0da997-ecb2-41da-8494-5ce1d85e401f",
   "metadata": {},
   "source": [
    "Here, we first establish a connection to the MySQL server using the mysql.connector.connect() method. We provide the necessary connection details such as the host name, username, password, and database name.\n",
    "\n",
    "Next, we create a cursor object using the cursor() method of the connection object. This cursor object is used to execute SQL queries.\n",
    "\n",
    "We then execute an SQL query using the execute() method of the cursor object. In this example, we are executing a SELECT query to retrieve all the rows from the customers table.\n",
    "\n",
    "Finally, we fetch the result of the query using the fetchall() method of the cursor object, and print it to the console.\n",
    "\n",
    "The execute() method is used to execute an SQL query on the database. It takes an SQL query as a parameter and returns no value. The cursor() method is used to create a cursor object, which is used to execute SQL queries and fetch the results. The cursor object has various methods such as execute(), fetchone(), fetchall(), etc., which are used to execute SQL queries and fetch the results."
   ]
  },
  {
   "cell_type": "markdown",
   "id": "327b91e0-8164-4cb5-8bfa-606826ec1b39",
   "metadata": {},
   "source": [
    "Q7. Give the order of execution of SQL clauses in an SQL query."
   ]
  },
  {
   "cell_type": "markdown",
   "id": "beb9dcef-6eda-4b0f-b467-59afa01ec6fe",
   "metadata": {},
   "source": [
    "The order of execution of SQL clauses in an SQL query is as follows:\n",
    "\n",
    "FROM clause: This clause specifies the table(s) from which to retrieve data.\n",
    "\n",
    "JOIN clause: This clause is used to join two or more tables together based on a related column.\n",
    "\n",
    "WHERE clause: This clause is used to filter the rows returned by the query based on a condition.\n",
    "\n",
    "GROUP BY clause: This clause is used to group the rows returned by the query based on one or more columns.\n",
    "\n",
    "HAVING clause: This clause is used to filter the groups returned by the query based on a condition.\n",
    "\n",
    "SELECT clause: This clause is used to specify the columns to retrieve from the table(s).\n",
    "\n",
    "DISTINCT clause: This clause is used to remove duplicate rows from the result set.\n",
    "\n",
    "ORDER BY clause: This clause is used to sort the rows returned by the query based on one or more columns.\n",
    "\n",
    "LIMIT clause: This clause is used to limit the number of rows returned by the query.\n",
    "\n",
    "Note that not all of these clauses are required in every SQL query. The order of execution may vary depending on the specific query and the clauses used. However, this is the general order of execution that is followed in most SQL queries."
   ]
  }
 ],
 "metadata": {
  "kernelspec": {
   "display_name": "Python 3 (ipykernel)",
   "language": "python",
   "name": "python3"
  },
  "language_info": {
   "codemirror_mode": {
    "name": "ipython",
    "version": 3
   },
   "file_extension": ".py",
   "mimetype": "text/x-python",
   "name": "python",
   "nbconvert_exporter": "python",
   "pygments_lexer": "ipython3",
   "version": "3.9.13"
  }
 },
 "nbformat": 4,
 "nbformat_minor": 5
}
