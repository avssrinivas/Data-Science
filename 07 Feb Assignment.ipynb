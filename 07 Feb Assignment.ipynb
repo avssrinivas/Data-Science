{
 "cells": [
  {
   "cell_type": "markdown",
   "id": "2eda274a-02ef-492d-9f8c-d14e71c4a90b",
   "metadata": {},
   "source": [
    "###Q1. You are writing code for a company. The requirement of the company is that you create a python\n",
    "function that will check whether the password entered by the user is correct or not. The function should\n",
    "take the password as input and return the string “Valid Password” if the entered password follows the\n",
    "below-given password guidelines else it should return “Invalid Password”.\n",
    "Note: 1. The Password should contain at least two uppercase letters and at least two lowercase letters.\n",
    "2. The Password should contain at least a number and three special characters.\n",
    "3. The length of the password should be 10 characters long."
   ]
  },
  {
   "cell_type": "code",
   "execution_count": 58,
   "id": "f9984579-520b-4ba0-a9fd-20b0178a1f9b",
   "metadata": {},
   "outputs": [
    {
     "name": "stdin",
     "output_type": "stream",
     "text": [
      "Enter your string: ABcd1!@#qw\n"
     ]
    },
    {
     "name": "stdout",
     "output_type": "stream",
     "text": [
      "True\n",
      "True\n",
      "True\n",
      "True\n",
      "Valid Password\n"
     ]
    }
   ],
   "source": [
    "pwd = input(\"Enter your string:\")\n",
    "u_case_ct = 0\n",
    "l_case_ct = 0\n",
    "num_ct = 0\n",
    "sp_ct = 0\n",
    "\n",
    "if len(pwd) != 10 :\n",
    "    print(\"Invalid Password\")\n",
    "else :\n",
    "    for i in range(0, 10) :\n",
    "        if pwd[i].isupper():\n",
    "            u_case_ct += 1\n",
    "        elif pwd[i].islower():\n",
    "            l_case_ct += 1\n",
    "        elif pwd[i].isdigit():\n",
    "            num_ct += 1\n",
    "        else:\n",
    "            sp_ct += 1\n",
    "       \n",
    "    if (u_case_ct >= 2) and (l_case_ct >= 2) and (num_ct >= 1) and (sp_ct >= 3) :\n",
    "        print(\"Valid Password\")\n",
    "    else :\n",
    "        print(\"Invalid Password\")"
   ]
  },
  {
   "cell_type": "markdown",
   "id": "9ec0ee67-2c69-42b3-9871-bb7678fbcf3c",
   "metadata": {},
   "source": [
    "###Q2. Solve the below-given questions using at least one of the following:\n",
    "1. Lambda function\n",
    "2. Filter function\n",
    "3. Map function\n",
    "4. List Comprehension"
   ]
  },
  {
   "cell_type": "code",
   "execution_count": null,
   "id": "03af760b-aee2-49e6-829f-a120409edb27",
   "metadata": {},
   "outputs": [],
   "source": [
    "## Check if the string starts with a particular letter"
   ]
  },
  {
   "cell_type": "code",
   "execution_count": 36,
   "id": "773f7a43-2019-4454-a7dd-72be23ef27bf",
   "metadata": {},
   "outputs": [
    {
     "name": "stdin",
     "output_type": "stream",
     "text": [
      "Enter your string: asdf\n",
      "Enter your letter: s\n"
     ]
    },
    {
     "name": "stdout",
     "output_type": "stream",
     "text": [
      "No\n"
     ]
    }
   ],
   "source": [
    "#checking if string starts with 's'\n",
    "string = input(\"Enter your string:\")\n",
    "letter = input(\"Enter your letter:\")\n",
    "result =lambda string, letter:string.startswith(letter)\n",
    "if result(string, letter) :\n",
    "    print(\"yes\") \n",
    "else :\n",
    "    print(\"No\")"
   ]
  },
  {
   "cell_type": "code",
   "execution_count": null,
   "id": "799077eb-5458-446f-a04d-8e82505ee2f8",
   "metadata": {},
   "outputs": [],
   "source": [
    "## Check if the string is numeric"
   ]
  },
  {
   "cell_type": "code",
   "execution_count": 38,
   "id": "e00e3258-991c-4a31-a724-554575f6be80",
   "metadata": {},
   "outputs": [
    {
     "name": "stdin",
     "output_type": "stream",
     "text": [
      "Enter your string: asd434\n"
     ]
    },
    {
     "name": "stdout",
     "output_type": "stream",
     "text": [
      "The string 'asd434' is not numeric.\n"
     ]
    }
   ],
   "source": [
    "string = input(\"Enter your string:\")\n",
    "\n",
    "result = all(map(str.isdigit, string))\n",
    "\n",
    "if result:\n",
    "    print(f\"The string '{string}' is numeric.\")\n",
    "else:\n",
    "    print(f\"The string '{string}' is not numeric.\")\n"
   ]
  },
  {
   "cell_type": "code",
   "execution_count": null,
   "id": "8977ec2e-dec5-4d03-867e-d8a6edc552f2",
   "metadata": {},
   "outputs": [],
   "source": [
    "## Sort a list of tuples having fruit names and their quantity. \n",
    "##[(\"mango\",99),(\"orange\",80), (\"grapes\", 1000)]"
   ]
  },
  {
   "cell_type": "code",
   "execution_count": 22,
   "id": "4258a216-7040-4003-b81a-eb442d2f4581",
   "metadata": {},
   "outputs": [
    {
     "name": "stdout",
     "output_type": "stream",
     "text": [
      "[('grapes', 1000), ('mango', 99), ('orange', 80)]\n",
      "[('orange', 80), ('mango', 99), ('grapes', 1000)]\n"
     ]
    }
   ],
   "source": [
    "fruits = [(\"mango\", 99), (\"orange\", 80), (\"grapes\", 1000)]\n",
    "\n",
    "sorted_fruits = sorted(fruits, key=lambda x: x[0])\n",
    "print(sorted_fruits)\n",
    "\n",
    "sorted_quantity = sorted(fruits, key=lambda x: x[1])\n",
    "print(sorted_quantity)"
   ]
  },
  {
   "cell_type": "code",
   "execution_count": null,
   "id": "6c7a0caf-1a85-4271-b83d-c749d5897190",
   "metadata": {},
   "outputs": [],
   "source": [
    "## Find the squares of numbers from 1 to 10"
   ]
  },
  {
   "cell_type": "code",
   "execution_count": 6,
   "id": "f8ced48c-f35d-459d-8d8a-2a9ced45350e",
   "metadata": {},
   "outputs": [
    {
     "name": "stdout",
     "output_type": "stream",
     "text": [
      "1\n",
      "4\n",
      "9\n",
      "16\n",
      "25\n",
      "36\n",
      "49\n",
      "64\n",
      "81\n",
      "100\n"
     ]
    }
   ],
   "source": [
    "sqr= lambda x:x**2\n",
    "\n",
    "for i in range(1,11):\n",
    "    print(sqr(i))"
   ]
  },
  {
   "cell_type": "code",
   "execution_count": null,
   "id": "a9245fb2-3ef7-4240-8aaa-0b7e2afc5502",
   "metadata": {},
   "outputs": [],
   "source": [
    "## Find the cube root of numbers from 1 to 10"
   ]
  },
  {
   "cell_type": "code",
   "execution_count": 7,
   "id": "90f01122-368a-4163-96e3-c796e5c5467f",
   "metadata": {},
   "outputs": [
    {
     "name": "stdout",
     "output_type": "stream",
     "text": [
      "1.0\n",
      "1.2599210498948732\n",
      "1.4422495703074083\n",
      "1.5874010519681994\n",
      "1.7099759466766968\n",
      "1.8171205928321397\n",
      "1.912931182772389\n",
      "2.0\n",
      "2.080083823051904\n",
      "2.154434690031884\n"
     ]
    }
   ],
   "source": [
    "cube_root= lambda x:x**(1/3)\n",
    "\n",
    "for i in range(1,11):\n",
    "    print(cube_root(i))"
   ]
  },
  {
   "cell_type": "code",
   "execution_count": null,
   "id": "25affd85-2cfd-47ad-a98b-8bc45f53b6bd",
   "metadata": {},
   "outputs": [],
   "source": [
    "## Check if a given number is even"
   ]
  },
  {
   "cell_type": "code",
   "execution_count": 9,
   "id": "b85c2306-a870-4928-96c8-9f1d3aacbc63",
   "metadata": {},
   "outputs": [
    {
     "data": {
      "text/plain": [
       "'Not Even'"
      ]
     },
     "execution_count": 9,
     "metadata": {},
     "output_type": "execute_result"
    }
   ],
   "source": [
    "is_even= lambda x:\"Even\" if x%2 ==0 else \"Not Even\"\n",
    "is_even(3)"
   ]
  },
  {
   "cell_type": "code",
   "execution_count": null,
   "id": "949bf1ab-60e1-4eb6-ad38-c9570814e516",
   "metadata": {},
   "outputs": [],
   "source": [
    "## Filter odd numbers from the given list. [1,2,3,4,5,6,7,8,9,10]"
   ]
  },
  {
   "cell_type": "code",
   "execution_count": 11,
   "id": "1e3e3701-521f-4caf-82a9-ed0160ce627f",
   "metadata": {},
   "outputs": [
    {
     "data": {
      "text/plain": [
       "[1, 3, 5, 7, 9]"
      ]
     },
     "execution_count": 11,
     "metadata": {},
     "output_type": "execute_result"
    }
   ],
   "source": [
    "l = [1,2,3,4,5,6,7,8,9,10]\n",
    "\n",
    "list(filter(lambda x:x%2 !=0, l))"
   ]
  },
  {
   "cell_type": "code",
   "execution_count": null,
   "id": "a89401af-4b41-4c19-a615-002b21afff28",
   "metadata": {},
   "outputs": [],
   "source": [
    "## Sort a list of integers into positive and negative integers lists. "
   ]
  },
  {
   "cell_type": "code",
   "execution_count": 24,
   "id": "a5ffd0b9-172f-4f87-aaec-d7f69081f526",
   "metadata": {},
   "outputs": [
    {
     "name": "stdout",
     "output_type": "stream",
     "text": [
      "[0, 1, 2, 3, 4, 5, 6]\n",
      "[-5, -4, -3, -2, -1]\n"
     ]
    }
   ],
   "source": [
    "l=[1,2,3,4,5,6,-1,-2,-3,-4,-5,0]\n",
    "positives = sorted([x for x in l if x >= 0])\n",
    "print(positives)\n",
    "negatives = sorted([x for x in l if x < 0])\n",
    "print(negatives)"
   ]
  }
 ],
 "metadata": {
  "kernelspec": {
   "display_name": "Python 3 (ipykernel)",
   "language": "python",
   "name": "python3"
  },
  "language_info": {
   "codemirror_mode": {
    "name": "ipython",
    "version": 3
   },
   "file_extension": ".py",
   "mimetype": "text/x-python",
   "name": "python",
   "nbconvert_exporter": "python",
   "pygments_lexer": "ipython3",
   "version": "3.9.13"
  }
 },
 "nbformat": 4,
 "nbformat_minor": 5
}
