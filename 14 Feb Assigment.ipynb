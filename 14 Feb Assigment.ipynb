{
 "cells": [
  {
   "cell_type": "markdown",
   "id": "86395f75-a631-4d88-b09b-a1e1d64a5b12",
   "metadata": {},
   "source": [
    "Q1. what is multithreading in python? why is it used? Name the module used to handle threads in python"
   ]
  },
  {
   "cell_type": "markdown",
   "id": "3e41b9f5-68d7-44a0-9a27-75f8c6aa95e9",
   "metadata": {},
   "source": [
    "Multithreading is a programming concept in which multiple threads of execution are created within a single process. Each thread represents an independent flow of control that can perform different tasks simultaneously.\n",
    "\n",
    "In Python, Multithreading is used to run multiple threads concurrently within a single process. This can improve the performance of certain types of applications, especially those that involve I/O operations or other types of blocking operations.\n",
    "\n",
    "Python provides a built-in module called threading to handle threads. This module allows you to create and manage multiple threads within your Python programs. With the threading module, you can create new threads, start and stop them, and communicate between threads using synchronization primitives such as locks and semaphores.\n",
    "\n",
    "Here is an example of how to create a new thread using the threading module:"
   ]
  },
  {
   "cell_type": "code",
   "execution_count": 3,
   "id": "2edd8639-4123-43d1-ab1d-6fb4ebf82ce3",
   "metadata": {},
   "outputs": [
    {
     "name": "stdout",
     "output_type": "stream",
     "text": [
      "Starting my_function\n",
      "Finished my_function\n",
      "All threads finished\n"
     ]
    }
   ],
   "source": [
    "import threading\n",
    "\n",
    "def my_function():\n",
    "    print(\"Starting my_function\")\n",
    "    # perform some long-running task\n",
    "    print(\"Finished my_function\")\n",
    "\n",
    "# create a new thread\n",
    "my_thread = threading.Thread(target=my_function)\n",
    "\n",
    "# start the thread\n",
    "my_thread.start()\n",
    "\n",
    "# wait for the thread to finish\n",
    "my_thread.join()\n",
    "\n",
    "print(\"All threads finished\")\n"
   ]
  },
  {
   "cell_type": "markdown",
   "id": "be0af835-4278-469f-88de-ac8537400caa",
   "metadata": {},
   "source": [
    "Q2. why threading module used? write the use of the following functions\n",
    "1. activeCount\n",
    "2. currentThread\n",
    "3. enumerate"
   ]
  },
  {
   "cell_type": "markdown",
   "id": "6121d6ad-0bac-45fe-ad9e-e414ef78f31c",
   "metadata": {},
   "source": [
    "The threading module is used for creating and managing threads in a program. Threads are lightweight processes that can run concurrently, allowing for more efficient use of system resources and better performance in certain types of applications.\n",
    "\n",
    "activeCount(): This function returns the number of Thread objects that are currently active in the program. An active thread is a thread that has been started and has not yet finished executing. This function is useful for debugging and monitoring the status of threads in a program.\n",
    "\n",
    "currentThread(): This function returns a Thread object representing the current thread of execution. This is useful when you need to refer to the current thread in your code, for example, to obtain its name or ID.\n",
    "\n",
    "enumerate(): This function returns a list of all Thread objects that are currently active in the program. This includes both daemon and non-daemon threads. Each thread is represented by a Thread object, which can be used to obtain information about the thread, such as its name, ID, and status. This function is useful for debugging and monitoring the status of all threads in a program."
   ]
  },
  {
   "cell_type": "markdown",
   "id": "bf0aa365-b6b5-4836-b53d-28e5f949c041",
   "metadata": {},
   "source": [
    "Q3. Explain the following functions\n",
    "1. run()\n",
    "2. start()\n",
    "3. join()\n",
    "4. isAlive()"
   ]
  },
  {
   "cell_type": "markdown",
   "id": "ba2c26c0-fd3f-4a00-af9d-34e3fea0d5ad",
   "metadata": {},
   "source": [
    "run(): This method is called when a Thread object's start() method is invoked. It is the method where the actual work of the thread is performed. You should override this method in your own subclass of Thread to define the behavior of the thread.\n",
    "\n",
    "start(): This method starts the execution of a new thread. When this method is called, a new thread of execution is created and the run() method of the Thread object is called in that new thread. This method returns immediately, so you can continue to execute other code in the main thread while the new thread runs.\n",
    "\n",
    "join(): This method waits for a thread to complete its execution. When this method is called on a Thread object, the main thread is blocked until the Thread object's run() method completes. This method can be used to ensure that a thread has finished executing before the main thread continues its work.\n",
    "\n",
    "isAlive(): This method returns a boolean value indicating whether the thread is currently executing. When a thread is started, it begins executing its run() method. When the run() method completes, the thread is no longer alive. This method can be used to check the status of a thread and determine whether it has finished executing or is still running."
   ]
  },
  {
   "cell_type": "markdown",
   "id": "41a450e4-797d-4185-8c04-ddbec17e0b19",
   "metadata": {},
   "source": [
    "Q4. write a python program to create two threads. Thread one must print the list of squares and thread two must print the list of cubes"
   ]
  },
  {
   "cell_type": "code",
   "execution_count": 7,
   "id": "d3b6177c-72e9-46a4-8272-a64d9afd1869",
   "metadata": {},
   "outputs": [
    {
     "name": "stdout",
     "output_type": "stream",
     "text": [
      "[1, 4, 9, 16, 25, 36, 49, 64, 81, 100]\n",
      "[1, 8, 27, 64, 125, 216, 343, 512, 729, 1000]\n",
      "Done\n"
     ]
    }
   ],
   "source": [
    "import threading\n",
    "\n",
    "# Define a function to print a list of squares\n",
    "def print_squares():\n",
    "    squares = [i**2 for i in range(1,11)]\n",
    "    print(squares)\n",
    "\n",
    "# Define a function to print a list of cubes\n",
    "def print_cubes():\n",
    "    cubes = [i**3 for i in range(1,11)]\n",
    "    print(cubes)\n",
    "\n",
    "# Create two Thread objects\n",
    "thread1 = threading. Thread(target = print_squares)\n",
    "thread2 = threading. Thread(target = print_cubes)\n",
    "\n",
    "# Start both threads\n",
    "thread1.start()\n",
    "thread2.start()\n",
    "\n",
    "# Wait for both threads to complete\n",
    "thread1.join()\n",
    "thread2.join()\n",
    "\n",
    "# Print a message indicating that the program has finished\n",
    "print(\"Done\")"
   ]
  },
  {
   "cell_type": "markdown",
   "id": "09726e22-6c0a-4076-8427-29c8e98316ec",
   "metadata": {},
   "source": [
    "Q5. State advantages and disadvantages of multithreading"
   ]
  },
  {
   "cell_type": "markdown",
   "id": "f5640133-d2d5-424d-a7bc-1a4e52b02ec1",
   "metadata": {},
   "source": [
    "Multithreading is a programming technique that involves dividing a program into two or more threads that can run concurrently. Here are some advantages and disadvantages of multithreading:\n",
    "\n",
    "Advantages:\n",
    "\n",
    "Increased performance: Multithreading can improve the performance of a program by allowing multiple tasks to run simultaneously on different threads.\n",
    "Efficient use of resources: Multithreading can make more efficient use of system resources, as it allows multiple tasks to share resources such as CPU time and memory.\n",
    "Simplified code: Multithreading can simplify the code of a program, as it allows complex tasks to be broken down into smaller, more manageable pieces that can run concurrently.\n",
    "Better user experience: Multithreading can improve the user experience of a program by allowing tasks such as file downloads and data processing to run in the background while the user interacts with the program.\n",
    "\n",
    "Disadvantages:\n",
    "\n",
    "Complexity: Multithreading can make a program more complex and harder to debug, as multiple threads may interact in unpredictable ways.\n",
    "Resource contention: Multithreading can lead to resource contention, where multiple threads compete for the same resources (such as memory or network bandwidth), leading to decreased performance and even deadlock in some cases.\n",
    "Synchronization issues: Multithreading can introduce synchronization issues, where different threads access the same data or resources at the same time, leading to race conditions and other types of bugs.\n",
    "Overhead: Multithreading can introduce overhead, as creating and managing threads takes time and system resources, which can impact the overall performance of a program.\n",
    "\n",
    "\n",
    "Overall, multithreading can be a powerful tool for improving the performance and user experience of a program, but it requires careful planning and implementation to avoid the potential drawbacks."
   ]
  },
  {
   "cell_type": "markdown",
   "id": "440ae592-771c-4b77-b6a8-78fc74b284b9",
   "metadata": {},
   "source": [
    "Q6. Explain deadlocks and race conditions."
   ]
  },
  {
   "cell_type": "markdown",
   "id": "e6ce02d1-89a1-4024-b962-59ebc75a5aed",
   "metadata": {},
   "source": [
    "Deadlocks and race conditions are two types of synchronization issues that can occur in multithreaded programs.\n",
    "\n",
    "A deadlock occurs when two or more threads are waiting for each other to release resources that they need to proceed. This can happen when multiple threads hold locks on different resources and are waiting for other threads to release the resources they need. If none of the threads release their locks, the program can become stuck in a deadlock, with no thread able to make progress. Deadlocks can be difficult to detect and resolve, as they often require careful analysis of the program's logic and locking patterns.\n",
    "\n",
    "A race condition occurs when two or more threads access the same shared data or resource at the same time, and the order in which they access the data is not well-defined. This can lead to unpredictable behavior, as the values of shared variables may change in unexpected ways depending on the timing of the thread executions. Race conditions can cause bugs such as data corruption, infinite loops, or crashes, and they can be difficult to reproduce and debug.\n",
    "\n",
    "To avoid deadlocks and race conditions, multithreaded programs need to use appropriate synchronization mechanisms such as locks, semaphores, or monitors to coordinate access to shared resources. Careful design and testing can also help to identify and resolve synchronization issues before they cause problems in production."
   ]
  },
  {
   "cell_type": "code",
   "execution_count": null,
   "id": "a3a74349-2da9-4273-8ec4-46918d76611c",
   "metadata": {},
   "outputs": [],
   "source": []
  }
 ],
 "metadata": {
  "kernelspec": {
   "display_name": "Python 3 (ipykernel)",
   "language": "python",
   "name": "python3"
  },
  "language_info": {
   "codemirror_mode": {
    "name": "ipython",
    "version": 3
   },
   "file_extension": ".py",
   "mimetype": "text/x-python",
   "name": "python",
   "nbconvert_exporter": "python",
   "pygments_lexer": "ipython3",
   "version": "3.9.13"
  }
 },
 "nbformat": 4,
 "nbformat_minor": 5
}
